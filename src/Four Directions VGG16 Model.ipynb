{
 "cells": [
  {
   "cell_type": "code",
   "execution_count": 18,
   "metadata": {},
   "outputs": [],
   "source": [
    "import matplotlib.pyplot as plt\n",
    "import numpy as np\n",
    "import os\n",
    "import tensorflow as tf\n",
    "import cv2\n",
    "from pandas import read_csv\n",
    "from sklearn.metrics import mean_squared_error\n",
    "from tensorflow import keras\n",
    "from tensorflow.keras import layers\n",
    "from tensorflow.keras.models import Sequential,model_from_json,Model\n",
    "from tensorflow.keras.applications.vgg16 import VGG16,preprocess_input,decode_predictions\n",
    "from tensorflow.keras.layers import Dense,Dropout,Flatten,Concatenate,Input\n",
    "from tensorflow.keras.optimizers import SGD"
   ]
  },
  {
   "cell_type": "code",
   "execution_count": 25,
   "metadata": {},
   "outputs": [],
   "source": [
    "from tensorflow.keras.callbacks import ModelCheckpoint,TensorBoard,EarlyStopping\n",
    "import datetime\n",
    "import os, sys\n",
    "import shutil\n",
    "import pathlib\n",
    "import tempfile\n",
    "from IPython.display import SVG\n",
    "from tensorflow.keras.utils import model_to_dot,plot_model"
   ]
  },
  {
   "cell_type": "markdown",
   "metadata": {},
   "source": [
    "### Data Preprocessing"
   ]
  },
  {
   "cell_type": "code",
   "execution_count": 3,
   "metadata": {},
   "outputs": [],
   "source": [
    "# number of locations\n",
    "n_train = 441\n",
    "n_test = 70\n",
    "n_valid = 63\n",
    "\n",
    "img_train_path = \"final data\"\n",
    "train_coords = read_csv(img_train_path + \"/Coordinates.csv\").values\n",
    "\n",
    "img_test_path = \"final test data\"\n",
    "test_coords = read_csv(img_test_path + \"/Coordinates.csv\").values\n",
    "\n",
    "img_valid_path = \"final validation data\"\n",
    "valid_coords = read_csv(img_valid_path + \"/Coordinates.csv\").values"
   ]
  },
  {
   "cell_type": "code",
   "execution_count": 4,
   "metadata": {},
   "outputs": [],
   "source": [
    "def preprocess_images(n_images,img_path):\n",
    "    img_list = []\n",
    "    for i in range(n_images):\n",
    "        loc = []\n",
    "        for j in range(4):\n",
    "            img = plt.imread(img_path+\"/{}.jpg\".format(i*4+j))\n",
    "            \n",
    "            # Scale to [0,1]\n",
    "            if (img.dtype == np.uint8):\n",
    "                img = img.astype(float) / 256\n",
    "                \n",
    "            # resize from (360, 640, 3) to (180, 320, 3)\n",
    "            img = cv2.resize(img,(int(img.shape[1]/2),int(img.shape[0]/2)),\n",
    "                            interpolation=cv2.INTER_CUBIC)\n",
    "\n",
    "            loc.append(img)\n",
    "\n",
    "        loc = np.array(loc)\n",
    "        img_list.append(loc)\n",
    "\n",
    "    return np.array(img_list)"
   ]
  },
  {
   "cell_type": "code",
   "execution_count": 5,
   "metadata": {},
   "outputs": [],
   "source": [
    "def seperate_four_directions(img_list):\n",
    "    N = img_list[:,0,:]\n",
    "    S = img_list[:,1,:]\n",
    "    E = img_list[:,2,:]\n",
    "    W = img_list[:,3,:]\n",
    "    return N,S,E,W"
   ]
  },
  {
   "cell_type": "code",
   "execution_count": 6,
   "metadata": {},
   "outputs": [],
   "source": [
    "# train data\n",
    "img_train_list = preprocess_images(n_train,img_train_path)\n",
    "N_train,S_train,E_train,W_train = seperate_four_directions(img_train_list)"
   ]
  },
  {
   "cell_type": "code",
   "execution_count": 7,
   "metadata": {},
   "outputs": [
    {
     "data": {
      "text/plain": [
       "(441, 4, 180, 320, 3)"
      ]
     },
     "execution_count": 7,
     "metadata": {},
     "output_type": "execute_result"
    }
   ],
   "source": [
    "img_train_list.shape"
   ]
  },
  {
   "cell_type": "code",
   "execution_count": 8,
   "metadata": {},
   "outputs": [],
   "source": [
    "# test data\n",
    "img_test_list = preprocess_images(n_test,img_test_path)\n",
    "N_test,S_test,E_test,W_test = seperate_four_directions(img_test_list)"
   ]
  },
  {
   "cell_type": "code",
   "execution_count": 9,
   "metadata": {},
   "outputs": [
    {
     "data": {
      "text/plain": [
       "(70, 4, 180, 320, 3)"
      ]
     },
     "execution_count": 9,
     "metadata": {},
     "output_type": "execute_result"
    }
   ],
   "source": [
    "img_test_list.shape"
   ]
  },
  {
   "cell_type": "code",
   "execution_count": 10,
   "metadata": {},
   "outputs": [],
   "source": [
    "# validation data\n",
    "img_valid_list = preprocess_images(n_valid,img_valid_path)\n",
    "N_valid,S_valid,E_valid,W_valid = seperate_four_directions(img_valid_list)"
   ]
  },
  {
   "cell_type": "code",
   "execution_count": 11,
   "metadata": {},
   "outputs": [
    {
     "data": {
      "text/plain": [
       "(63, 4, 180, 320, 3)"
      ]
     },
     "execution_count": 11,
     "metadata": {},
     "output_type": "execute_result"
    }
   ],
   "source": [
    "img_valid_list.shape"
   ]
  },
  {
   "cell_type": "code",
   "execution_count": 12,
   "metadata": {},
   "outputs": [
    {
     "data": {
      "text/plain": [
       "(180, 320, 3)"
      ]
     },
     "execution_count": 12,
     "metadata": {},
     "output_type": "execute_result"
    }
   ],
   "source": [
    "# image size\n",
    "img_shape = N_train[0].shape\n",
    "img_shape"
   ]
  },
  {
   "cell_type": "markdown",
   "metadata": {},
   "source": [
    "### Four Directions VGG16 Model"
   ]
  },
  {
   "cell_type": "code",
   "execution_count": 13,
   "metadata": {},
   "outputs": [],
   "source": [
    "def four_directions_VGG16(img_shape):\n",
    "    N_model = VGG16(input_shape=img_shape,include_top=False,weights='imagenet')\n",
    "    for layer in N_model.layers:\n",
    "        layer._name = layer._name + str(\"_N\")\n",
    "        layer.trainable = False\n",
    "    N_input = N_model.input\n",
    "    N_output = N_model.output\n",
    "    \n",
    "    S_model = VGG16(input_shape=img_shape,include_top=False,weights='imagenet')\n",
    "    for layer in S_model.layers:\n",
    "        layer._name = layer._name + str(\"_S\")\n",
    "        layer.trainable = False\n",
    "    S_input = S_model.input\n",
    "    S_output = S_model.output\n",
    "    \n",
    "    E_model = VGG16(input_shape=img_shape,include_top=False,weights='imagenet')\n",
    "    for layer in E_model.layers:\n",
    "        layer._name = layer._name + str(\"_E\")\n",
    "        layer.trainable = False\n",
    "    E_input = E_model.input\n",
    "    E_output = E_model.output\n",
    "    \n",
    "    W_model = VGG16(input_shape=img_shape,include_top=False,weights='imagenet')\n",
    "    for layer in W_model.layers:\n",
    "        layer._name = layer._name + str(\"_W\")\n",
    "        layer.trainable = False\n",
    "    W_input = W_model.input\n",
    "    W_output = W_model.output\n",
    "    \n",
    "    merged = Concatenate()([N_output,S_output,E_output,W_output])\n",
    "    flatten = Flatten()(merged)\n",
    "    dense1 = Dense(128,activation='relu')(flatten)\n",
    "    dropout = Dropout(0.2)(dense1)\n",
    "    output = Dense(2)(dropout)\n",
    "    model = Model(inputs=[N_input,S_input,E_input,W_input],outputs=[output])\n",
    "    \n",
    "    return model"
   ]
  },
  {
   "cell_type": "code",
   "execution_count": 14,
   "metadata": {},
   "outputs": [],
   "source": [
    "# save checkpoints\n",
    "checkpoint_path = \"training/cp.ckpt\"\n",
    "checkpoint_dir = os.path.dirname(checkpoint_path)\n",
    "\n",
    "# view in tensorboard: tensorboard --logdir logs/fit\n",
    "log_dir = pathlib.Path(tempfile.mkdtemp())/\"tensorboard_logs\"\n",
    "shutil.rmtree(log_dir, ignore_errors=True)\n",
    "\n",
    "# All callbacks\n",
    "def get_callbacks(name):\n",
    "    return [\n",
    "        ModelCheckpoint(filepath=checkpoint_path,save_weights_only=True,verbose=1),\n",
    "        TensorBoard(log_dir=log_dir/name,histogram_freq=1),\n",
    "        EarlyStopping(monitor='loss', patience=3,verbose=2,mode='min'),\n",
    "    ]"
   ]
  },
  {
   "cell_type": "code",
   "execution_count": 15,
   "metadata": {
    "scrolled": false
   },
   "outputs": [],
   "source": [
    "def model_compile_and_fit(model,name,x_train,y_train,optimizer='adam',\n",
    "                          epochs=10,batch_size=10):\n",
    "    model.compile(loss='mse', optimizer=optimizer, metrics=['mean_squared_error'])\n",
    "    history = model.fit(x_train, y_train, \n",
    "                        epochs=epochs, \n",
    "                        batch_size=batch_size,\n",
    "                        callbacks=get_callbacks(name))\n",
    "    return history\n",
    "    "
   ]
  },
  {
   "cell_type": "markdown",
   "metadata": {},
   "source": [
    "### Model Training"
   ]
  },
  {
   "cell_type": "code",
   "execution_count": 16,
   "metadata": {},
   "outputs": [],
   "source": [
    "four_directions_VGG16_model = four_directions_VGG16(img_shape)"
   ]
  },
  {
   "cell_type": "code",
   "execution_count": 17,
   "metadata": {},
   "outputs": [
    {
     "name": "stdout",
     "output_type": "stream",
     "text": [
      "Epoch 1/10\n",
      " 1/45 [..............................] - ETA: 0s - loss: 10007.8223 - mean_squared_error: 10007.8223WARNING:tensorflow:From C:\\ProgramData\\Anaconda3\\envs\\tf2.3\\lib\\site-packages\\tensorflow\\python\\ops\\summary_ops_v2.py:1277: stop (from tensorflow.python.eager.profiler) is deprecated and will be removed after 2020-07-01.\n",
      "Instructions for updating:\n",
      "use `tf.profiler.experimental.stop` instead.\n",
      "45/45 [==============================] - ETA: 0s - loss: 2484.3438 - mean_squared_error: 2484.3438 \n",
      "Epoch 00001: saving model to training\\cp.ckpt\n",
      "45/45 [==============================] - 694s 15s/step - loss: 2484.3438 - mean_squared_error: 2484.3438\n",
      "Epoch 2/10\n",
      "45/45 [==============================] - ETA: 0s - loss: 667.7057 - mean_squared_error: 667.7057 \n",
      "Epoch 00002: saving model to training\\cp.ckpt\n",
      "45/45 [==============================] - 719s 16s/step - loss: 667.7057 - mean_squared_error: 667.7057\n",
      "Epoch 3/10\n",
      "45/45 [==============================] - ETA: 0s - loss: 376.8248 - mean_squared_error: 376.8248 \n",
      "Epoch 00003: saving model to training\\cp.ckpt\n",
      "45/45 [==============================] - 671s 15s/step - loss: 376.8248 - mean_squared_error: 376.8248\n",
      "Epoch 4/10\n",
      "45/45 [==============================] - ETA: 0s - loss: 293.3811 - mean_squared_error: 293.3811 \n",
      "Epoch 00004: saving model to training\\cp.ckpt\n",
      "45/45 [==============================] - 725s 16s/step - loss: 293.3811 - mean_squared_error: 293.3811\n",
      "Epoch 5/10\n",
      "45/45 [==============================] - ETA: 0s - loss: 252.3329 - mean_squared_error: 252.3329 \n",
      "Epoch 00005: saving model to training\\cp.ckpt\n",
      "45/45 [==============================] - 631s 14s/step - loss: 252.3329 - mean_squared_error: 252.3329\n",
      "Epoch 6/10\n",
      "45/45 [==============================] - ETA: 0s - loss: 298.5818 - mean_squared_error: 298.5818 \n",
      "Epoch 00006: saving model to training\\cp.ckpt\n",
      "45/45 [==============================] - 624s 14s/step - loss: 298.5818 - mean_squared_error: 298.5818\n",
      "Epoch 7/10\n",
      "45/45 [==============================] - ETA: 0s - loss: 209.7980 - mean_squared_error: 209.7980 \n",
      "Epoch 00007: saving model to training\\cp.ckpt\n",
      "45/45 [==============================] - 624s 14s/step - loss: 209.7980 - mean_squared_error: 209.7980\n",
      "Epoch 8/10\n",
      "45/45 [==============================] - ETA: 0s - loss: 198.0304 - mean_squared_error: 198.0304 \n",
      "Epoch 00008: saving model to training\\cp.ckpt\n",
      "45/45 [==============================] - 620s 14s/step - loss: 198.0304 - mean_squared_error: 198.0304\n",
      "Epoch 9/10\n",
      "45/45 [==============================] - ETA: 0s - loss: 195.1032 - mean_squared_error: 195.1032 \n",
      "Epoch 00009: saving model to training\\cp.ckpt\n",
      "45/45 [==============================] - 658s 15s/step - loss: 195.1032 - mean_squared_error: 195.1032\n",
      "Epoch 10/10\n",
      "45/45 [==============================] - ETA: 0s - loss: 208.0716 - mean_squared_error: 208.0716 \n",
      "Epoch 00010: saving model to training\\cp.ckpt\n",
      "45/45 [==============================] - 646s 14s/step - loss: 208.0716 - mean_squared_error: 208.0716\n"
     ]
    }
   ],
   "source": [
    "x_train = [N_train,S_train,E_train,W_train]\n",
    "y_train = train_coords\n",
    "\n",
    "model = model_compile_and_fit(four_directions_VGG16_model,\n",
    "                              'four_directions_VGG16_model',\n",
    "                              x_train,\n",
    "                              y_train,\n",
    "                              optimizer='adam',\n",
    "                              epochs=10,\n",
    "                              batch_size=10)"
   ]
  },
  {
   "cell_type": "code",
   "execution_count": 47,
   "metadata": {},
   "outputs": [
    {
     "data": {
      "image/png": "[encoded data removed]",
      "text/plain": [
       "<Figure size 432x288 with 1 Axes>"
      ]
     },
     "metadata": {
      "needs_background": "light"
     },
     "output_type": "display_data"
    }
   ],
   "source": [
    "# Training MSE vs Epoch\n",
    "training_loss = np.array([2484.3438,667.7057,376.8248,293.3811,\n",
    "                          252.3329,298.5818,209.7980,198.0304,195.1032,208.0716])\n",
    "epoches = np.arange(1,11)\n",
    "\n",
    "plt.plot(epoches,training_loss,label=\"MSE\")\n",
    "plt.title(\"four directions VGG16 training loss\")\n",
    "plt.xticks(epoches)\n",
    "plt.xlabel(\"Epoch\")\n",
    "plt.ylabel(\"Training Loss\")\n",
    "plt.legend()\n",
    "plt.show()"
   ]
  },
  {
   "cell_type": "markdown",
   "metadata": {},
   "source": [
    "### Restored Model"
   ]
  },
  {
   "cell_type": "code",
   "execution_count": 21,
   "metadata": {},
   "outputs": [],
   "source": [
    "restored_model = four_directions_VGG16(img_shape)\n",
    "restored_model.compile(loss='mse', optimizer='adam', metrics=['mean_squared_error'])"
   ]
  },
  {
   "cell_type": "code",
   "execution_count": 22,
   "metadata": {},
   "outputs": [
    {
     "data": {
      "text/plain": [
       "<tensorflow.python.training.tracking.util.CheckpointLoadStatus at 0x1e800536c08>"
      ]
     },
     "execution_count": 22,
     "metadata": {},
     "output_type": "execute_result"
    }
   ],
   "source": [
    "restored_model.load_weights(checkpoint_path)"
   ]
  },
  {
   "cell_type": "code",
   "execution_count": 18,
   "metadata": {
    "scrolled": false
   },
   "outputs": [
    {
     "name": "stdout",
     "output_type": "stream",
     "text": [
      "Model: \"functional_1\"\n",
      "__________________________________________________________________________________________________\n",
      "Layer (type)                    Output Shape         Param #     Connected to                     \n",
      "==================================================================================================\n",
      "input_1_N (InputLayer)          [(None, 180, 320, 3) 0                                            \n",
      "__________________________________________________________________________________________________\n",
      "input_2_S (InputLayer)          [(None, 180, 320, 3) 0                                            \n",
      "__________________________________________________________________________________________________\n",
      "input_3_E (InputLayer)          [(None, 180, 320, 3) 0                                            \n",
      "__________________________________________________________________________________________________\n",
      "input_4_W (InputLayer)          [(None, 180, 320, 3) 0                                            \n",
      "__________________________________________________________________________________________________\n",
      "block1_conv1_N (Conv2D)         (None, 180, 320, 64) 1792        input_1_N[0][0]                  \n",
      "__________________________________________________________________________________________________\n",
      "block1_conv1_S (Conv2D)         (None, 180, 320, 64) 1792        input_2_S[0][0]                  \n",
      "__________________________________________________________________________________________________\n",
      "block1_conv1_E (Conv2D)         (None, 180, 320, 64) 1792        input_3_E[0][0]                  \n",
      "__________________________________________________________________________________________________\n",
      "block1_conv1_W (Conv2D)         (None, 180, 320, 64) 1792        input_4_W[0][0]                  \n",
      "__________________________________________________________________________________________________\n",
      "block1_conv2_N (Conv2D)         (None, 180, 320, 64) 36928       block1_conv1_N[0][0]             \n",
      "__________________________________________________________________________________________________\n",
      "block1_conv2_S (Conv2D)         (None, 180, 320, 64) 36928       block1_conv1_S[0][0]             \n",
      "__________________________________________________________________________________________________\n",
      "block1_conv2_E (Conv2D)         (None, 180, 320, 64) 36928       block1_conv1_E[0][0]             \n",
      "__________________________________________________________________________________________________\n",
      "block1_conv2_W (Conv2D)         (None, 180, 320, 64) 36928       block1_conv1_W[0][0]             \n",
      "__________________________________________________________________________________________________\n",
      "block1_pool_N (MaxPooling2D)    (None, 90, 160, 64)  0           block1_conv2_N[0][0]             \n",
      "__________________________________________________________________________________________________\n",
      "block1_pool_S (MaxPooling2D)    (None, 90, 160, 64)  0           block1_conv2_S[0][0]             \n",
      "__________________________________________________________________________________________________\n",
      "block1_pool_E (MaxPooling2D)    (None, 90, 160, 64)  0           block1_conv2_E[0][0]             \n",
      "__________________________________________________________________________________________________\n",
      "block1_pool_W (MaxPooling2D)    (None, 90, 160, 64)  0           block1_conv2_W[0][0]             \n",
      "__________________________________________________________________________________________________\n",
      "block2_conv1_N (Conv2D)         (None, 90, 160, 128) 73856       block1_pool_N[0][0]              \n",
      "__________________________________________________________________________________________________\n",
      "block2_conv1_S (Conv2D)         (None, 90, 160, 128) 73856       block1_pool_S[0][0]              \n",
      "__________________________________________________________________________________________________\n",
      "block2_conv1_E (Conv2D)         (None, 90, 160, 128) 73856       block1_pool_E[0][0]              \n",
      "__________________________________________________________________________________________________\n",
      "block2_conv1_W (Conv2D)         (None, 90, 160, 128) 73856       block1_pool_W[0][0]              \n",
      "__________________________________________________________________________________________________\n",
      "block2_conv2_N (Conv2D)         (None, 90, 160, 128) 147584      block2_conv1_N[0][0]             \n",
      "__________________________________________________________________________________________________\n",
      "block2_conv2_S (Conv2D)         (None, 90, 160, 128) 147584      block2_conv1_S[0][0]             \n",
      "__________________________________________________________________________________________________\n",
      "block2_conv2_E (Conv2D)         (None, 90, 160, 128) 147584      block2_conv1_E[0][0]             \n",
      "__________________________________________________________________________________________________\n",
      "block2_conv2_W (Conv2D)         (None, 90, 160, 128) 147584      block2_conv1_W[0][0]             \n",
      "__________________________________________________________________________________________________\n",
      "block2_pool_N (MaxPooling2D)    (None, 45, 80, 128)  0           block2_conv2_N[0][0]             \n",
      "__________________________________________________________________________________________________\n",
      "block2_pool_S (MaxPooling2D)    (None, 45, 80, 128)  0           block2_conv2_S[0][0]             \n",
      "__________________________________________________________________________________________________\n",
      "block2_pool_E (MaxPooling2D)    (None, 45, 80, 128)  0           block2_conv2_E[0][0]             \n",
      "__________________________________________________________________________________________________\n",
      "block2_pool_W (MaxPooling2D)    (None, 45, 80, 128)  0           block2_conv2_W[0][0]             \n",
      "__________________________________________________________________________________________________\n",
      "block3_conv1_N (Conv2D)         (None, 45, 80, 256)  295168      block2_pool_N[0][0]              \n",
      "__________________________________________________________________________________________________\n",
      "block3_conv1_S (Conv2D)         (None, 45, 80, 256)  295168      block2_pool_S[0][0]              \n",
      "__________________________________________________________________________________________________\n",
      "block3_conv1_E (Conv2D)         (None, 45, 80, 256)  295168      block2_pool_E[0][0]              \n",
      "__________________________________________________________________________________________________\n",
      "block3_conv1_W (Conv2D)         (None, 45, 80, 256)  295168      block2_pool_W[0][0]              \n",
      "__________________________________________________________________________________________________\n",
      "block3_conv2_N (Conv2D)         (None, 45, 80, 256)  590080      block3_conv1_N[0][0]             \n",
      "__________________________________________________________________________________________________\n",
      "block3_conv2_S (Conv2D)         (None, 45, 80, 256)  590080      block3_conv1_S[0][0]             \n",
      "__________________________________________________________________________________________________\n",
      "block3_conv2_E (Conv2D)         (None, 45, 80, 256)  590080      block3_conv1_E[0][0]             \n",
      "__________________________________________________________________________________________________\n",
      "block3_conv2_W (Conv2D)         (None, 45, 80, 256)  590080      block3_conv1_W[0][0]             \n",
      "__________________________________________________________________________________________________\n",
      "block3_conv3_N (Conv2D)         (None, 45, 80, 256)  590080      block3_conv2_N[0][0]             \n",
      "__________________________________________________________________________________________________\n",
      "block3_conv3_S (Conv2D)         (None, 45, 80, 256)  590080      block3_conv2_S[0][0]             \n",
      "__________________________________________________________________________________________________\n",
      "block3_conv3_E (Conv2D)         (None, 45, 80, 256)  590080      block3_conv2_E[0][0]             \n",
      "__________________________________________________________________________________________________\n",
      "block3_conv3_W (Conv2D)         (None, 45, 80, 256)  590080      block3_conv2_W[0][0]             \n",
      "__________________________________________________________________________________________________\n",
      "block3_pool_N (MaxPooling2D)    (None, 22, 40, 256)  0           block3_conv3_N[0][0]             \n",
      "__________________________________________________________________________________________________\n",
      "block3_pool_S (MaxPooling2D)    (None, 22, 40, 256)  0           block3_conv3_S[0][0]             \n",
      "__________________________________________________________________________________________________\n",
      "block3_pool_E (MaxPooling2D)    (None, 22, 40, 256)  0           block3_conv3_E[0][0]             \n",
      "__________________________________________________________________________________________________\n",
      "block3_pool_W (MaxPooling2D)    (None, 22, 40, 256)  0           block3_conv3_W[0][0]             \n",
      "__________________________________________________________________________________________________\n",
      "block4_conv1_N (Conv2D)         (None, 22, 40, 512)  1180160     block3_pool_N[0][0]              \n",
      "__________________________________________________________________________________________________\n",
      "block4_conv1_S (Conv2D)         (None, 22, 40, 512)  1180160     block3_pool_S[0][0]              \n",
      "__________________________________________________________________________________________________\n",
      "block4_conv1_E (Conv2D)         (None, 22, 40, 512)  1180160     block3_pool_E[0][0]              \n",
      "__________________________________________________________________________________________________\n",
      "block4_conv1_W (Conv2D)         (None, 22, 40, 512)  1180160     block3_pool_W[0][0]              \n",
      "__________________________________________________________________________________________________\n",
      "block4_conv2_N (Conv2D)         (None, 22, 40, 512)  2359808     block4_conv1_N[0][0]             \n",
      "__________________________________________________________________________________________________\n",
      "block4_conv2_S (Conv2D)         (None, 22, 40, 512)  2359808     block4_conv1_S[0][0]             \n",
      "__________________________________________________________________________________________________\n",
      "block4_conv2_E (Conv2D)         (None, 22, 40, 512)  2359808     block4_conv1_E[0][0]             \n",
      "__________________________________________________________________________________________________\n",
      "block4_conv2_W (Conv2D)         (None, 22, 40, 512)  2359808     block4_conv1_W[0][0]             \n",
      "__________________________________________________________________________________________________\n",
      "block4_conv3_N (Conv2D)         (None, 22, 40, 512)  2359808     block4_conv2_N[0][0]             \n",
      "__________________________________________________________________________________________________\n",
      "block4_conv3_S (Conv2D)         (None, 22, 40, 512)  2359808     block4_conv2_S[0][0]             \n",
      "__________________________________________________________________________________________________\n",
      "block4_conv3_E (Conv2D)         (None, 22, 40, 512)  2359808     block4_conv2_E[0][0]             \n",
      "__________________________________________________________________________________________________\n",
      "block4_conv3_W (Conv2D)         (None, 22, 40, 512)  2359808     block4_conv2_W[0][0]             \n",
      "__________________________________________________________________________________________________\n",
      "block4_pool_N (MaxPooling2D)    (None, 11, 20, 512)  0           block4_conv3_N[0][0]             \n",
      "__________________________________________________________________________________________________\n",
      "block4_pool_S (MaxPooling2D)    (None, 11, 20, 512)  0           block4_conv3_S[0][0]             \n",
      "__________________________________________________________________________________________________\n",
      "block4_pool_E (MaxPooling2D)    (None, 11, 20, 512)  0           block4_conv3_E[0][0]             \n",
      "__________________________________________________________________________________________________\n",
      "block4_pool_W (MaxPooling2D)    (None, 11, 20, 512)  0           block4_conv3_W[0][0]             \n",
      "__________________________________________________________________________________________________\n",
      "block5_conv1_N (Conv2D)         (None, 11, 20, 512)  2359808     block4_pool_N[0][0]              \n",
      "__________________________________________________________________________________________________\n",
      "block5_conv1_S (Conv2D)         (None, 11, 20, 512)  2359808     block4_pool_S[0][0]              \n",
      "__________________________________________________________________________________________________\n",
      "block5_conv1_E (Conv2D)         (None, 11, 20, 512)  2359808     block4_pool_E[0][0]              \n",
      "__________________________________________________________________________________________________\n",
      "block5_conv1_W (Conv2D)         (None, 11, 20, 512)  2359808     block4_pool_W[0][0]              \n",
      "__________________________________________________________________________________________________\n",
      "block5_conv2_N (Conv2D)         (None, 11, 20, 512)  2359808     block5_conv1_N[0][0]             \n",
      "__________________________________________________________________________________________________\n",
      "block5_conv2_S (Conv2D)         (None, 11, 20, 512)  2359808     block5_conv1_S[0][0]             \n",
      "__________________________________________________________________________________________________\n",
      "block5_conv2_E (Conv2D)         (None, 11, 20, 512)  2359808     block5_conv1_E[0][0]             \n",
      "__________________________________________________________________________________________________\n",
      "block5_conv2_W (Conv2D)         (None, 11, 20, 512)  2359808     block5_conv1_W[0][0]             \n",
      "__________________________________________________________________________________________________\n",
      "block5_conv3_N (Conv2D)         (None, 11, 20, 512)  2359808     block5_conv2_N[0][0]             \n",
      "__________________________________________________________________________________________________\n",
      "block5_conv3_S (Conv2D)         (None, 11, 20, 512)  2359808     block5_conv2_S[0][0]             \n",
      "__________________________________________________________________________________________________\n",
      "block5_conv3_E (Conv2D)         (None, 11, 20, 512)  2359808     block5_conv2_E[0][0]             \n",
      "__________________________________________________________________________________________________\n",
      "block5_conv3_W (Conv2D)         (None, 11, 20, 512)  2359808     block5_conv2_W[0][0]             \n",
      "__________________________________________________________________________________________________\n",
      "block5_pool_N (MaxPooling2D)    (None, 5, 10, 512)   0           block5_conv3_N[0][0]             \n",
      "__________________________________________________________________________________________________\n",
      "block5_pool_S (MaxPooling2D)    (None, 5, 10, 512)   0           block5_conv3_S[0][0]             \n",
      "__________________________________________________________________________________________________\n",
      "block5_pool_E (MaxPooling2D)    (None, 5, 10, 512)   0           block5_conv3_E[0][0]             \n",
      "__________________________________________________________________________________________________\n",
      "block5_pool_W (MaxPooling2D)    (None, 5, 10, 512)   0           block5_conv3_W[0][0]             \n",
      "__________________________________________________________________________________________________\n",
      "concatenate (Concatenate)       (None, 5, 10, 2048)  0           block5_pool_N[0][0]              \n",
      "                                                                 block5_pool_S[0][0]              \n",
      "                                                                 block5_pool_E[0][0]              \n",
      "                                                                 block5_pool_W[0][0]              \n",
      "__________________________________________________________________________________________________\n",
      "flatten (Flatten)               (None, 102400)       0           concatenate[0][0]                \n",
      "__________________________________________________________________________________________________\n",
      "dense (Dense)                   (None, 128)          13107328    flatten[0][0]                    \n",
      "__________________________________________________________________________________________________\n",
      "dropout (Dropout)               (None, 128)          0           dense[0][0]                      \n",
      "__________________________________________________________________________________________________\n",
      "dense_1 (Dense)                 (None, 2)            258         dropout[0][0]                    \n",
      "==================================================================================================\n",
      "Total params: 71,966,338\n",
      "Trainable params: 13,107,586\n",
      "Non-trainable params: 58,858,752\n",
      "__________________________________________________________________________________________________\n"
     ]
    }
   ],
   "source": [
    "restored_model.summary()"
   ]
  },
  {
   "cell_type": "markdown",
   "metadata": {},
   "source": [
    "### Model Evaluations"
   ]
  },
  {
   "cell_type": "code",
   "execution_count": 27,
   "metadata": {},
   "outputs": [
    {
     "data": {
      "text/plain": [
       "['loss', 'mean_squared_error']"
      ]
     },
     "execution_count": 27,
     "metadata": {},
     "output_type": "execute_result"
    }
   ],
   "source": [
    "restored_model.metrics_names"
   ]
  },
  {
   "cell_type": "markdown",
   "metadata": {},
   "source": [
    "#### Train data MSE"
   ]
  },
  {
   "cell_type": "code",
   "execution_count": 27,
   "metadata": {},
   "outputs": [],
   "source": [
    "x_train = [N_train,S_train,E_train,W_train]\n",
    "y_train = train_coords"
   ]
  },
  {
   "cell_type": "code",
   "execution_count": 28,
   "metadata": {},
   "outputs": [
    {
     "name": "stdout",
     "output_type": "stream",
     "text": [
      "147/147 [==============================] - 704s 5s/step - loss: 104.8000 - mean_squared_error: 104.8000\n",
      "Train MSE: 104.79997253417969\n"
     ]
    }
   ],
   "source": [
    "# Average Train MSE\n",
    "train_results = restored_model.evaluate(x_train,y_train,verbose=1,batch_size=3)\n",
    "print(\"Train MSE: {}\".format(train_results[1]))"
   ]
  },
  {
   "cell_type": "code",
   "execution_count": 43,
   "metadata": {},
   "outputs": [
    {
     "name": "stdout",
     "output_type": "stream",
     "text": [
      "147/147 - 635s\n"
     ]
    }
   ],
   "source": [
    "# Train data MSE list\n",
    "y_train_pred = restored_model.predict(x_train,batch_size=3,verbose=2)"
   ]
  },
  {
   "cell_type": "code",
   "execution_count": 50,
   "metadata": {},
   "outputs": [
    {
     "data": {
      "image/png": "[encoded data removed]",
      "text/plain": [
       "<Figure size 432x288 with 1 Axes>"
      ]
     },
     "metadata": {
      "needs_background": "light"
     },
     "output_type": "display_data"
    }
   ],
   "source": [
    "# Train data MSE histogram\n",
    "train_MSE_list = [mean_squared_error(y_true,y_pred) for y_true,y_pred in zip(y_train,y_train_pred)]\n",
    "\n",
    "plt.hist(train_MSE_list,color='green')\n",
    "plt.title(\"four directions VGG16 Train MSE distribution\")\n",
    "plt.xlabel(\"MSE Range\")\n",
    "plt.ylabel(\"Number of Data Points\")\n",
    "plt.show()"
   ]
  },
  {
   "cell_type": "code",
   "execution_count": 49,
   "metadata": {},
   "outputs": [
    {
     "data": {
      "image/png": "[encoded data removed]",
      "text/plain": [
       "<Figure size 432x288 with 1 Axes>"
      ]
     },
     "metadata": {
      "needs_background": "light"
     },
     "output_type": "display_data"
    }
   ],
   "source": [
    "# Train data MSE histogram - Proportion\n",
    "train_MSE_list = [mean_squared_error(y_true,y_pred) for y_true,y_pred in zip(y_train,y_train_pred)]\n",
    "\n",
    "plt.hist(train_MSE_list,color='green',weights=np.ones_like(train_MSE_list)*100/len(train_MSE_list))\n",
    "plt.title(\"four directions VGG16 Train MSE proportion distribution\")\n",
    "plt.xlabel(\"MSE Range\")\n",
    "plt.ylabel(\"Proportion of Data Points (%)\")\n",
    "plt.show()"
   ]
  },
  {
   "cell_type": "markdown",
   "metadata": {},
   "source": [
    "#### Test data MSE"
   ]
  },
  {
   "cell_type": "code",
   "execution_count": 29,
   "metadata": {},
   "outputs": [],
   "source": [
    "x_test = [N_test,S_test,E_test,W_test]\n",
    "y_test = test_coords"
   ]
  },
  {
   "cell_type": "code",
   "execution_count": 30,
   "metadata": {},
   "outputs": [
    {
     "name": "stdout",
     "output_type": "stream",
     "text": [
      "24/24 [==============================] - 115s 5s/step - loss: 460.1487 - mean_squared_error: 460.1487\n",
      "Test MSE: 460.14874267578125\n"
     ]
    }
   ],
   "source": [
    "# Average Test MSE\n",
    "test_results = restored_model.evaluate(x_test,y_test,verbose=1,batch_size=3)\n",
    "print(\"Test MSE: {}\".format(test_results[1]))"
   ]
  },
  {
   "cell_type": "code",
   "execution_count": 31,
   "metadata": {},
   "outputs": [
    {
     "name": "stdout",
     "output_type": "stream",
     "text": [
      "24/24 - 93s\n"
     ]
    }
   ],
   "source": [
    "# Test data MSE list\n",
    "y_test_pred = restored_model.predict(x_test,batch_size=3,verbose=2)"
   ]
  },
  {
   "cell_type": "code",
   "execution_count": 51,
   "metadata": {},
   "outputs": [
    {
     "data": {
      "image/png": "[encoded data removed]",
      "text/plain": [
       "<Figure size 432x288 with 1 Axes>"
      ]
     },
     "metadata": {
      "needs_background": "light"
     },
     "output_type": "display_data"
    }
   ],
   "source": [
    "# Test data MSE histogram\n",
    "test_MSE_list = [mean_squared_error(y_true,y_pred) for y_true,y_pred in zip(y_test,y_test_pred)]\n",
    "\n",
    "plt.hist(test_MSE_list,color='green')\n",
    "plt.title(\"four directions VGG16 Test MSE distribution\")\n",
    "plt.xlabel(\"MSE Range\")\n",
    "plt.ylabel(\"Number of Data Points\")\n",
    "plt.show()"
   ]
  },
  {
   "cell_type": "code",
   "execution_count": 52,
   "metadata": {},
   "outputs": [
    {
     "data": {
      "image/png": "[encoded data removed]",
      "text/plain": [
       "<Figure size 432x288 with 1 Axes>"
      ]
     },
     "metadata": {
      "needs_background": "light"
     },
     "output_type": "display_data"
    }
   ],
   "source": [
    "# Test data MSE histogram - Proportion\n",
    "test_MSE_list = [mean_squared_error(y_true,y_pred) for y_true,y_pred in zip(y_test,y_test_pred)]\n",
    "\n",
    "plt.hist(test_MSE_list,color='green',weights=np.ones_like(test_MSE_list)*100/len(test_MSE_list))\n",
    "plt.title(\"four directions VGG16 Test MSE proportion distribution\")\n",
    "plt.xlabel(\"MSE Range\")\n",
    "plt.ylabel(\"Proportion of Data Points (%)\")\n",
    "plt.show()"
   ]
  },
  {
   "cell_type": "markdown",
   "metadata": {},
   "source": [
    "#### Validation data MSE"
   ]
  },
  {
   "cell_type": "code",
   "execution_count": 19,
   "metadata": {},
   "outputs": [],
   "source": [
    "x_valid = [N_valid,S_valid,E_valid,W_valid]\n",
    "y_valid = valid_coords"
   ]
  },
  {
   "cell_type": "code",
   "execution_count": 22,
   "metadata": {},
   "outputs": [
    {
     "name": "stdout",
     "output_type": "stream",
     "text": [
      "21/21 - 91s - loss: 227.4959 - mean_squared_error: 227.4959\n",
      "Validation MSE: 227.49591064453125\n"
     ]
    }
   ],
   "source": [
    "# Average Validation MSE\n",
    "valid_results = restored_model.evaluate(x_valid,y_valid,verbose=2,batch_size=3)\n",
    "print(\"Validation MSE: {}\".format(valid_results[1]))"
   ]
  },
  {
   "cell_type": "code",
   "execution_count": 20,
   "metadata": {},
   "outputs": [
    {
     "name": "stdout",
     "output_type": "stream",
     "text": [
      "21/21 - 89s\n"
     ]
    }
   ],
   "source": [
    "# Validation data MSE list\n",
    "y_valid_pred = restored_model.predict(x_valid,batch_size=3,verbose=2)"
   ]
  },
  {
   "cell_type": "code",
   "execution_count": 53,
   "metadata": {},
   "outputs": [
    {
     "data": {
      "image/png": "[encoded data removed]",
      "text/plain": [
       "<Figure size 432x288 with 1 Axes>"
      ]
     },
     "metadata": {
      "needs_background": "light"
     },
     "output_type": "display_data"
    }
   ],
   "source": [
    "# Validation data MSE histogram\n",
    "valid_MSE_list = [mean_squared_error(y_true,y_pred) for y_true,y_pred in zip(y_valid,y_valid_pred)]\n",
    "\n",
    "plt.hist(valid_MSE_list,color='green')\n",
    "plt.title(\"four directions VGG16 Validation MSE distribution\")\n",
    "plt.xlabel(\"MSE Range\")\n",
    "plt.ylabel(\"Number of Data Points\")\n",
    "plt.show()"
   ]
  },
  {
   "cell_type": "code",
   "execution_count": 55,
   "metadata": {},
   "outputs": [
    {
     "data": {
      "image/png": "[encoded data removed]",
      "text/plain": [
       "<Figure size 432x288 with 1 Axes>"
      ]
     },
     "metadata": {
      "needs_background": "light"
     },
     "output_type": "display_data"
    }
   ],
   "source": [
    "# Validation data MSE histogram - Proportion\n",
    "valid_MSE_list = [mean_squared_error(y_true,y_pred) for y_true,y_pred in zip(y_valid,y_valid_pred)]\n",
    "\n",
    "#plt.hist(valid_MSE_list,color='green',density=True,stacked=True)\n",
    "plt.hist(valid_MSE_list,color='green',weights=np.ones_like(valid_MSE_list)*100/len(valid_MSE_list))\n",
    "plt.title(\"four directions VGG16 Validation MSE proportion distribution\")\n",
    "plt.xlabel(\"MSE Range\")\n",
    "plt.ylabel(\"Proportion of Data Points (%)\")\n",
    "plt.show()"
   ]
  },
  {
   "cell_type": "markdown",
   "metadata": {},
   "source": [
    "#### Prediction data "
   ]
  },
  {
   "cell_type": "code",
   "execution_count": 40,
   "metadata": {},
   "outputs": [],
   "source": [
    "n_pred = 1\n",
    "img_pred_path = \"99 173\"\n",
    "\n",
    "img_pred_list = preprocess_images(n_pred,img_pred_path)\n",
    "N_pred,S_pred,E_pred,W_pred = seperate_four_directions(img_pred_list)"
   ]
  },
  {
   "cell_type": "code",
   "execution_count": 50,
   "metadata": {},
   "outputs": [
    {
     "name": "stdout",
     "output_type": "stream",
     "text": [
      "Predicted coordinates on (99,173): [105.57907 179.00583]\n"
     ]
    }
   ],
   "source": [
    "# Predicted coordinates\n",
    "x_pred = [N_pred,S_pred,E_pred,W_pred]\n",
    "y_pred = restored_model.predict(x_pred)[0]\n",
    "print(\"Predicted coordinates on (99,173): {}\".format(y_pred))"
   ]
  },
  {
   "cell_type": "code",
   "execution_count": 44,
   "metadata": {},
   "outputs": [
    {
     "name": "stdout",
     "output_type": "stream",
     "text": [
      "Prediction on (99,173) MSE: 39.67707803938538\n"
     ]
    }
   ],
   "source": [
    "# Prediction MSE\n",
    "y_true = np.array([99,173])\n",
    "pred_MSE = mean_squared_error(y_true,y_pred)\n",
    "print(\"Prediction on (99,173) MSE: {}\".format(pred_MSE))"
   ]
  }
 ],
 "metadata": {
  "kernelspec": {
   "display_name": "Python 3",
   "language": "python",
   "name": "python3"
  },
  "language_info": {
   "codemirror_mode": {
    "name": "ipython",
    "version": 3
   },
   "file_extension": ".py",
   "mimetype": "text/x-python",
   "name": "python",
   "nbconvert_exporter": "python",
   "pygments_lexer": "ipython3",
   "version": "3.7.9"
  }
 },
 "nbformat": 4,
 "nbformat_minor": 4
}
