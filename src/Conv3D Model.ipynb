{
 "cells": [
  {
   "cell_type": "code",
   "execution_count": 2,
   "metadata": {},
   "outputs": [],
   "source": [
    "import matplotlib.pyplot as plt\n",
    "import numpy as np\n",
    "import pandas as pd\n",
    "from tensorflow.keras.models import Sequential\n",
    "from tensorflow.keras.layers import Dense\n",
    "from tensorflow.keras.layers import Dropout\n",
    "from tensorflow.keras.layers import Conv2D\n",
    "from tensorflow.keras.layers import MaxPooling2D\n",
    "from tensorflow.keras.layers import Conv3D\n",
    "from tensorflow.keras.layers import MaxPooling3D\n",
    "from tensorflow.keras.layers import Flatten\n",
    "import tensorflow as tf\n",
    "from skimage.color import rgb2gray\n",
    "from skimage.transform import rescale\n",
    "from sklearn.model_selection import KFold\n",
    "from sklearn.metrics import mean_squared_error\n",
    "import cv2"
   ]
  },
  {
   "cell_type": "code",
   "execution_count": 3,
   "metadata": {},
   "outputs": [],
   "source": [
    "IMG_PATH = \"final data\\\\\""
   ]
  },
  {
   "cell_type": "markdown",
   "metadata": {},
   "source": [
    "# Load Data & Grayscale Data"
   ]
  },
  {
   "cell_type": "code",
   "execution_count": 4,
   "metadata": {},
   "outputs": [],
   "source": [
    "counter = 0\n",
    "gray = list()\n",
    "for i in range(441):\n",
    "    temp = list()\n",
    "    for j in range(4):\n",
    "        \n",
    "        \n",
    "        img = cv2.imread(IMG_PATH + f'{i*4+j}.jpg')\n",
    "        \n",
    "        #img = cv2.cvtColor(image, cv2.COLOR_BGR2GRAY).astype(\"int32\")\n",
    "        \n",
    "        if (img.dtype == np.uint8):\n",
    "            img = img.astype(float) / 256\n",
    "        img = np.mean(img,axis=-1)\n",
    "        img = np.expand_dims(img,axis=2)\n",
    "        temp.append(img)\n",
    "        counter += 1\n",
    "        \n",
    "    temp = np.array(temp)\n",
    "    gray.append(temp)\n",
    "\n",
    "gray = np.array(gray)"
   ]
  },
  {
   "cell_type": "code",
   "execution_count": 5,
   "metadata": {},
   "outputs": [
    {
     "data": {
      "text/plain": [
       "(441, 4, 360, 640, 1)"
      ]
     },
     "execution_count": 5,
     "metadata": {},
     "output_type": "execute_result"
    }
   ],
   "source": [
    "gray.shape"
   ]
  },
  {
   "cell_type": "code",
   "execution_count": 6,
   "metadata": {},
   "outputs": [],
   "source": [
    "target = pd.read_csv(IMG_PATH + \"coordinates.csv\")\n",
    "Y = np.array(target.values.tolist())\n",
    "X = gray"
   ]
  },
  {
   "cell_type": "markdown",
   "metadata": {},
   "source": [
    "# Loading Test Data"
   ]
  },
  {
   "cell_type": "code",
   "execution_count": 7,
   "metadata": {},
   "outputs": [],
   "source": [
    "counter = 0\n",
    "gray = list()\n",
    "for i in range(70):\n",
    "    temp = list()\n",
    "    for j in range(4):\n",
    "        \n",
    "        \n",
    "        img = cv2.imread(f'final test data/{i*4+j}.jpg')\n",
    "        \n",
    "        #img = cv2.cvtColor(image, cv2.COLOR_BGR2GRAY).astype(\"int32\")\n",
    "        \n",
    "        if (img.dtype == np.uint8):\n",
    "            img = img.astype(float) / 256\n",
    "        img = np.mean(img,axis=-1)\n",
    "        img = np.expand_dims(img,axis=2)\n",
    "        temp.append(img)\n",
    "        counter += 1\n",
    "        \n",
    "    temp = np.array(temp)\n",
    "    gray.append(temp)\n",
    "\n",
    "gray = np.array(gray)"
   ]
  },
  {
   "cell_type": "code",
   "execution_count": 8,
   "metadata": {},
   "outputs": [],
   "source": [
    "target = pd.read_csv(\"final test data/coordinates.csv\")\n",
    "Y_test = np.array(target.values.tolist())\n",
    "X_test = gray"
   ]
  },
  {
   "cell_type": "code",
   "execution_count": 9,
   "metadata": {
    "scrolled": false
   },
   "outputs": [],
   "source": [
    "model = Sequential([\n",
    "    Conv3D(16, kernel_size=5, strides=1,  activation='relu', input_shape=X.shape[1:], padding='same'),\n",
    "    MaxPooling3D(), \n",
    "    Conv3D(32, kernel_size=5, strides=1, activation='relu', padding='same'), \n",
    "    MaxPooling3D(), \n",
    "    Flatten(),\n",
    "    Dense(120, activation='relu'), \n",
    "    Dense(84, activation='relu'), \n",
    "    Dense(2) \n",
    "])"
   ]
  },
  {
   "cell_type": "code",
   "execution_count": 10,
   "metadata": {},
   "outputs": [],
   "source": [
    "model.compile(optimizer='adam', loss='mse', metrics=['mean_squared_error'])"
   ]
  },
  {
   "cell_type": "code",
   "execution_count": 11,
   "metadata": {
    "scrolled": false
   },
   "outputs": [
    {
     "name": "stdout",
     "output_type": "stream",
     "text": [
      "Epoch 1/5\n",
      "147/147 [==============================] - 1986s 14s/step - loss: 4708.6753 - mean_squared_error: 4708.6753\n",
      "Epoch 2/5\n",
      "147/147 [==============================] - 1969s 13s/step - loss: 3385.2231 - mean_squared_error: 3385.2229\n",
      "Epoch 3/5\n",
      "147/147 [==============================] - 1943s 13s/step - loss: 2159.3118 - mean_squared_error: 2159.3118\n",
      "Epoch 4/5\n",
      "147/147 [==============================] - 1949s 13s/step - loss: 1753.0010 - mean_squared_error: 1753.0010\n",
      "Epoch 5/5\n",
      "147/147 [==============================] - 1920s 13s/step - loss: 1166.0631 - mean_squared_error: 1166.0631\n"
     ]
    },
    {
     "data": {
      "text/plain": [
       "<tensorflow.python.keras.callbacks.History at 0x1580013f630>"
      ]
     },
     "execution_count": 11,
     "metadata": {},
     "output_type": "execute_result"
    }
   ],
   "source": [
    "model.fit(X, Y, epochs=5, batch_size=3)"
   ]
  },
  {
   "cell_type": "code",
   "execution_count": 14,
   "metadata": {},
   "outputs": [],
   "source": [
    "model.save(\"my_model.h5\")"
   ]
  },
  {
   "cell_type": "code",
   "execution_count": 15,
   "metadata": {},
   "outputs": [
    {
     "name": "stdout",
     "output_type": "stream",
     "text": [
      "Model: \"sequential\"\n",
      "_________________________________________________________________\n",
      "Layer (type)                 Output Shape              Param #   \n",
      "=================================================================\n",
      "conv3d (Conv3D)              (None, 4, 360, 640, 16)   2016      \n",
      "_________________________________________________________________\n",
      "max_pooling3d (MaxPooling3D) (None, 2, 180, 320, 16)   0         \n",
      "_________________________________________________________________\n",
      "conv3d_1 (Conv3D)            (None, 2, 180, 320, 32)   64032     \n",
      "_________________________________________________________________\n",
      "max_pooling3d_1 (MaxPooling3 (None, 1, 90, 160, 32)    0         \n",
      "_________________________________________________________________\n",
      "flatten (Flatten)            (None, 460800)            0         \n",
      "_________________________________________________________________\n",
      "dense (Dense)                (None, 120)               55296120  \n",
      "_________________________________________________________________\n",
      "dense_1 (Dense)              (None, 84)                10164     \n",
      "_________________________________________________________________\n",
      "dense_2 (Dense)              (None, 2)                 170       \n",
      "=================================================================\n",
      "Total params: 55,372,502\n",
      "Trainable params: 55,372,502\n",
      "Non-trainable params: 0\n",
      "_________________________________________________________________\n"
     ]
    }
   ],
   "source": [
    "model.summary()"
   ]
  },
  {
   "cell_type": "code",
   "execution_count": 16,
   "metadata": {},
   "outputs": [
    {
     "name": "stdout",
     "output_type": "stream",
     "text": [
      "3/3 - 19s - loss: 1762.7104 - mean_squared_error: 1762.7104\n",
      "Restored model, accuracy: 176271.04%\n"
     ]
    }
   ],
   "source": [
    "loss, acc = model.evaluate(X_test, Y_test, verbose=2)\n",
    "print(\"Restored model, accuracy: {:5.2f}%\".format(100*acc))"
   ]
  },
  {
   "cell_type": "markdown",
   "metadata": {},
   "source": [
    "# Loading Validation Data and test"
   ]
  },
  {
   "cell_type": "code",
   "execution_count": 17,
   "metadata": {},
   "outputs": [],
   "source": [
    "counter = 0\n",
    "gray = list()\n",
    "for i in range(63):\n",
    "    temp = list()\n",
    "    for j in range(4):\n",
    "        \n",
    "        \n",
    "        img = cv2.imread(f'final validation data/{i*4+j}.jpg')\n",
    "        \n",
    "        #img = cv2.cvtColor(image, cv2.COLOR_BGR2GRAY).astype(\"int32\")\n",
    "        \n",
    "        if (img.dtype == np.uint8):\n",
    "            img = img.astype(float) / 256\n",
    "        img = np.mean(img,axis=-1)\n",
    "        img = np.expand_dims(img,axis=2)\n",
    "        temp.append(img)\n",
    "        counter += 1\n",
    "        \n",
    "    temp = np.array(temp)\n",
    "    gray.append(temp)\n",
    "\n",
    "gray = np.array(gray)"
   ]
  },
  {
   "cell_type": "code",
   "execution_count": 18,
   "metadata": {},
   "outputs": [],
   "source": [
    "target_validation = pd.read_csv(\"final validation data/coordinates.csv\")\n",
    "Y_validation = np.array(target_validation.values.tolist())\n",
    "X_validation = gray"
   ]
  },
  {
   "cell_type": "code",
   "execution_count": 19,
   "metadata": {},
   "outputs": [
    {
     "name": "stdout",
     "output_type": "stream",
     "text": [
      "2/2 - 15s - loss: 1243.3097 - mean_squared_error: 1243.3097\n",
      "Restored model, accuracy: 124330.97%\n"
     ]
    }
   ],
   "source": [
    "loss, acc = model.evaluate(X_validation, Y_validation, verbose=2)\n",
    "print(\"Restored model, accuracy: {:5.2f}%\".format(100*acc))"
   ]
  },
  {
   "cell_type": "markdown",
   "metadata": {},
   "source": [
    "# Prediction"
   ]
  },
  {
   "cell_type": "code",
   "execution_count": 22,
   "metadata": {},
   "outputs": [],
   "source": [
    "counter = 0\n",
    "gray = list()\n",
    "for i in range(1):\n",
    "    temp = list()\n",
    "    for j in range(4):\n",
    "        \n",
    "        \n",
    "        img = cv2.imread(f'99 173/{i*4+j}.jpg')\n",
    "        \n",
    "        #img = cv2.cvtColor(image, cv2.COLOR_BGR2GRAY).astype(\"int32\")\n",
    "        \n",
    "        if (img.dtype == np.uint8):\n",
    "            img = img.astype(float) / 256\n",
    "        img = np.mean(img,axis=-1)\n",
    "        img = np.expand_dims(img,axis=2)\n",
    "        temp.append(img)\n",
    "        counter += 1\n",
    "        \n",
    "    temp = np.array(temp)\n",
    "    gray.append(temp)\n",
    "\n",
    "gray = np.array(gray)"
   ]
  },
  {
   "cell_type": "code",
   "execution_count": 24,
   "metadata": {},
   "outputs": [
    {
     "data": {
      "text/plain": [
       "array([[ 63.796745, 157.06264 ]], dtype=float32)"
      ]
     },
     "execution_count": 24,
     "metadata": {},
     "output_type": "execute_result"
    }
   ],
   "source": [
    "model.predict(gray)"
   ]
  },
  {
   "cell_type": "code",
   "execution_count": null,
   "metadata": {},
   "outputs": [],
   "source": []
  },
  {
   "cell_type": "code",
   "execution_count": null,
   "metadata": {},
   "outputs": [],
   "source": []
  }
 ],
 "metadata": {
  "kernelspec": {
   "display_name": "Python 3",
   "language": "python",
   "name": "python3"
  },
  "language_info": {
   "codemirror_mode": {
    "name": "ipython",
    "version": 3
   },
   "file_extension": ".py",
   "mimetype": "text/x-python",
   "name": "python",
   "nbconvert_exporter": "python",
   "pygments_lexer": "ipython3",
   "version": "3.6.2"
  }
 },
 "nbformat": 4,
 "nbformat_minor": 4
}
