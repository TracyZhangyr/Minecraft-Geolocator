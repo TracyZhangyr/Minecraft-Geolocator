{
 "cells": [
  {
   "cell_type": "code",
   "execution_count": 1,
   "metadata": {},
   "outputs": [],
   "source": [
    "import matplotlib.pyplot as plt\n",
    "import numpy as np\n",
    "import pandas as pd\n",
    "from tensorflow.keras.models import Sequential\n",
    "from tensorflow.keras.layers import Dense\n",
    "from tensorflow.keras.layers import Dropout\n",
    "from tensorflow.keras.layers import Conv2D\n",
    "from tensorflow.keras.layers import MaxPooling2D\n",
    "from tensorflow.keras.layers import Conv3D\n",
    "from tensorflow.keras.layers import MaxPooling3D\n",
    "from tensorflow.keras.layers import Flatten\n",
    "import tensorflow as tf\n",
    "from skimage.color import rgb2gray\n",
    "from skimage.transform import rescale\n",
    "from sklearn.model_selection import KFold\n",
    "from sklearn.metrics import mean_squared_error\n",
    "import cv2\n",
    "\n",
    "from tensorflow.keras.layers import Input, Dense, Flatten, Dropout, Conv2D, MaxPooling2D, Activation, concatenate\n",
    "from tensorflow.keras.models import Model"
   ]
  },
  {
   "cell_type": "markdown",
   "metadata": {},
   "source": [
    "# Load Data & Grayscale Data"
   ]
  },
  {
   "cell_type": "code",
   "execution_count": 2,
   "metadata": {},
   "outputs": [],
   "source": [
    "counter = 0\n",
    "gray = list()\n",
    "for i in range(441):\n",
    "    temp = list()\n",
    "    for j in range(4):\n",
    "        \n",
    "        \n",
    "        img = cv2.imread(f'{i}.jpg')\n",
    "        \n",
    "        #img = cv2.cvtColor(image, cv2.COLOR_BGR2GRAY).astype(\"int32\")\n",
    "        \n",
    "        if (img.dtype == np.uint8):\n",
    "            img = img.astype(float) / 256\n",
    "        img = np.mean(img,axis=-1)\n",
    "        img = np.expand_dims(img,axis=2)\n",
    "        temp.append(img)\n",
    "        counter += 1\n",
    "        \n",
    "    temp = np.array(temp)\n",
    "    gray.append(temp)\n",
    "\n",
    "gray = np.array(gray)"
   ]
  },
  {
   "cell_type": "code",
   "execution_count": 3,
   "metadata": {},
   "outputs": [
    {
     "data": {
      "text/plain": [
       "(441, 4, 360, 640, 1)"
      ]
     },
     "execution_count": 3,
     "metadata": {},
     "output_type": "execute_result"
    }
   ],
   "source": [
    "gray.shape"
   ]
  },
  {
   "cell_type": "code",
   "execution_count": 4,
   "metadata": {},
   "outputs": [],
   "source": [
    "target = pd.read_csv(\"coordinates.csv\")\n",
    "Y = np.array(target.values.tolist())\n",
    "\n",
    "N = list()\n",
    "S = list()\n",
    "E = list()\n",
    "W = list()\n",
    "\n",
    "for i in range(441):\n",
    "    N.append(gray[i][0])\n",
    "    S.append(gray[i][1])\n",
    "    E.append(gray[i][2])\n",
    "    W.append(gray[i][3])\n",
    "\n",
    "N = np.array(N)\n",
    "S = np.array(S)\n",
    "E = np.array(E)\n",
    "W = np.array(W)"
   ]
  },
  {
   "cell_type": "markdown",
   "metadata": {},
   "source": [
    "# Loading Test Data"
   ]
  },
  {
   "cell_type": "code",
   "execution_count": 5,
   "metadata": {},
   "outputs": [],
   "source": [
    "target = pd.read_csv(\"test data/coordinates.csv\")\n",
    "Y_test = np.array(target.values.tolist())\n",
    "counter = 0\n",
    "gray = list()\n",
    "for i in range(len(Y_test)):\n",
    "    temp = list()\n",
    "    for j in range(4):\n",
    "        \n",
    "        \n",
    "        img = cv2.imread(f'test data/{i}.jpg')\n",
    "        \n",
    "        #img = cv2.cvtColor(image, cv2.COLOR_BGR2GRAY).astype(\"int32\")\n",
    "        \n",
    "        if (img.dtype == np.uint8):\n",
    "            img = img.astype(float) / 256\n",
    "        img = np.mean(img,axis=-1)\n",
    "        img = np.expand_dims(img,axis=2)\n",
    "        temp.append(img)\n",
    "        counter += 1\n",
    "        \n",
    "    temp = np.array(temp)\n",
    "    gray.append(temp)\n",
    "\n",
    "gray = np.array(gray)"
   ]
  },
  {
   "cell_type": "code",
   "execution_count": 6,
   "metadata": {},
   "outputs": [],
   "source": [
    "N_test = list()\n",
    "S_test = list()\n",
    "E_test = list()\n",
    "W_test = list()\n",
    "\n",
    "for i in range(len(Y_test)):\n",
    "    N_test.append(gray[i][0])\n",
    "    S_test.append(gray[i][1])\n",
    "    E_test.append(gray[i][2])\n",
    "    W_test.append(gray[i][3])\n",
    "    \n",
    "N_test = np.array(N_test)\n",
    "S_test = np.array(S_test)\n",
    "E_test = np.array(E_test)\n",
    "W_test = np.array(W_test)"
   ]
  },
  {
   "cell_type": "markdown",
   "metadata": {
    "scrolled": false
   },
   "source": [
    "# Building the model by hand"
   ]
  },
  {
   "cell_type": "code",
   "execution_count": 7,
   "metadata": {},
   "outputs": [],
   "source": [
    "def create_convolution_layers(input_img):\n",
    "    model = Conv2D(8, (3,3), activation='relu', input_shape=N.shape[1:], padding='same')(input_img)\n",
    "    model = MaxPooling2D()(model)\n",
    "    model = Conv2D(16, (3,3), activation='relu', padding='same')(model)\n",
    "    model = MaxPooling2D()(model)\n",
    "    \n",
    "    return model"
   ]
  },
  {
   "cell_type": "code",
   "execution_count": 8,
   "metadata": {
    "scrolled": false
   },
   "outputs": [],
   "source": [
    "North_input = Input(shape=gray.shape[2:])\n",
    "N_model = create_convolution_layers(North_input)\n",
    "\n",
    "South_input = Input(shape=gray.shape[2:])\n",
    "S_model = create_convolution_layers(South_input)\n",
    "\n",
    "East_input = Input(shape=gray.shape[2:])\n",
    "E_model = create_convolution_layers(East_input)\n",
    "\n",
    "West_input = Input(shape=gray.shape[2:])\n",
    "W_model = create_convolution_layers(West_input)\n",
    "\n",
    "conv = concatenate([N_model,S_model,E_model,W_model])\n",
    "conv = Flatten()(conv)\n",
    "\n",
    "dense = Dense(512)(conv)\n",
    "dense = Dropout(0.01)(dense)\n",
    "\n",
    "output = Dense(2)(dense)"
   ]
  },
  {
   "cell_type": "code",
   "execution_count": 9,
   "metadata": {},
   "outputs": [],
   "source": [
    "model = Model(inputs=[North_input,South_input,East_input,West_input], outputs=[output])"
   ]
  },
  {
   "cell_type": "code",
   "execution_count": 10,
   "metadata": {},
   "outputs": [],
   "source": [
    "model.compile(optimizer='adam', loss='mse', metrics=['mean_squared_error'])"
   ]
  },
  {
   "cell_type": "code",
   "execution_count": 11,
   "metadata": {},
   "outputs": [
    {
     "name": "stdout",
     "output_type": "stream",
     "text": [
      "Epoch 1/20\n",
      "45/45 [==============================] - 148s 3s/step - loss: 22561.0527 - mean_squared_error: 22561.0527\n",
      "Epoch 2/20\n",
      "45/45 [==============================] - 147s 3s/step - loss: 3289.5312 - mean_squared_error: 3289.5312\n",
      "Epoch 3/20\n",
      "45/45 [==============================] - 149s 3s/step - loss: 2352.0315 - mean_squared_error: 2352.0315\n",
      "Epoch 4/20\n",
      "45/45 [==============================] - 145s 3s/step - loss: 1405.2280 - mean_squared_error: 1405.2280\n"
     ]
    },
    {
     "data": {
      "text/plain": [
       "<tensorflow.python.keras.callbacks.History at 0x2e901779a88>"
      ]
     },
     "execution_count": 11,
     "metadata": {},
     "output_type": "execute_result"
    }
   ],
   "source": [
    "class myCallback(tf.keras.callbacks.Callback): \n",
    "    def on_epoch_end(self, epoch, logs={}): \n",
    "        if(logs.get('loss') < 1700):   \n",
    "            self.model.stop_training = True\n",
    "\n",
    "callbacks = myCallback()\n",
    "\n",
    "model.fit([N,S,E,W], Y,\n",
    "          batch_size=10,\n",
    "          epochs=20,\n",
    "          callbacks=[callbacks])"
   ]
  },
  {
   "cell_type": "code",
   "execution_count": 12,
   "metadata": {},
   "outputs": [],
   "source": [
    "a = model.predict([N_test, S_test,E_test,W_test])"
   ]
  },
  {
   "cell_type": "markdown",
   "metadata": {},
   "source": [
    "# Test MSE"
   ]
  },
  {
   "cell_type": "code",
   "execution_count": 13,
   "metadata": {},
   "outputs": [
    {
     "name": "stdout",
     "output_type": "stream",
     "text": [
      "2200.045129223851\n"
     ]
    }
   ],
   "source": [
    "print(mean_squared_error(a,Y_test))"
   ]
  },
  {
   "cell_type": "markdown",
   "metadata": {},
   "source": [
    "# Validation MSE"
   ]
  },
  {
   "cell_type": "code",
   "execution_count": 14,
   "metadata": {},
   "outputs": [],
   "source": [
    "target = pd.read_csv(\"final validation data/coordinates.csv\")\n",
    "Y_test = np.array(target.values.tolist())\n",
    "counter = 0\n",
    "gray = list()\n",
    "for i in range(len(Y_test)):\n",
    "    temp = list()\n",
    "    for j in range(4):\n",
    "        \n",
    "        \n",
    "        img = cv2.imread(f'final validation data/{i}.jpg')\n",
    "        \n",
    "        #img = cv2.cvtColor(image, cv2.COLOR_BGR2GRAY).astype(\"int32\")\n",
    "        \n",
    "        if (img.dtype == np.uint8):\n",
    "            img = img.astype(float) / 256\n",
    "        img = np.mean(img,axis=-1)\n",
    "        img = np.expand_dims(img,axis=2)\n",
    "        temp.append(img)\n",
    "        counter += 1\n",
    "        \n",
    "    temp = np.array(temp)\n",
    "    gray.append(temp)\n",
    "\n",
    "gray = np.array(gray)\n",
    "\n",
    "# delete noisy\n",
    "gray = np.delete(gray,[14, 15, 35, 55,],axis=0)\n",
    "Y_test = np.delete(Y_test,[14, 15, 35, 55],axis=0)\n",
    "\n",
    "N_test = list()\n",
    "S_test = list()\n",
    "E_test = list()\n",
    "W_test = list()\n",
    "\n",
    "for i in range(len(Y_test)):\n",
    "    N_test.append(gray[i][0])\n",
    "    S_test.append(gray[i][1])\n",
    "    E_test.append(gray[i][2])\n",
    "    W_test.append(gray[i][3])\n",
    "    \n",
    "N_test = np.array(N_test)\n",
    "S_test = np.array(S_test)\n",
    "E_test = np.array(E_test)\n",
    "W_test = np.array(W_test)"
   ]
  },
  {
   "cell_type": "code",
   "execution_count": 15,
   "metadata": {},
   "outputs": [],
   "source": [
    "a = model.predict([N_test, S_test,E_test,W_test])"
   ]
  },
  {
   "cell_type": "code",
   "execution_count": 16,
   "metadata": {},
   "outputs": [
    {
     "name": "stdout",
     "output_type": "stream",
     "text": [
      "2289.6031789070203\n"
     ]
    }
   ],
   "source": [
    "print(mean_squared_error(a,Y_test))"
   ]
  },
  {
   "cell_type": "code",
   "execution_count": null,
   "metadata": {},
   "outputs": [],
   "source": []
  },
  {
   "cell_type": "code",
   "execution_count": null,
   "metadata": {},
   "outputs": [],
   "source": []
  },
  {
   "cell_type": "code",
   "execution_count": null,
   "metadata": {},
   "outputs": [],
   "source": []
  },
  {
   "cell_type": "code",
   "execution_count": null,
   "metadata": {},
   "outputs": [],
   "source": []
  },
  {
   "cell_type": "code",
   "execution_count": null,
   "metadata": {},
   "outputs": [],
   "source": []
  },
  {
   "cell_type": "code",
   "execution_count": null,
   "metadata": {},
   "outputs": [],
   "source": []
  }
 ],
 "metadata": {
  "kernelspec": {
   "display_name": "Python 3",
   "language": "python",
   "name": "python3"
  },
  "language_info": {
   "codemirror_mode": {
    "name": "ipython",
    "version": 3
   },
   "file_extension": ".py",
   "mimetype": "text/x-python",
   "name": "python",
   "nbconvert_exporter": "python",
   "pygments_lexer": "ipython3",
   "version": "3.7.6"
  }
 },
 "nbformat": 4,
 "nbformat_minor": 4
}
