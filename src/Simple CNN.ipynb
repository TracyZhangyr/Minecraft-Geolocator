{
 "cells": [
  {
   "cell_type": "code",
   "execution_count": 1,
   "metadata": {},
   "outputs": [],
   "source": [
    "import matplotlib.pyplot as plt\n",
    "import numpy as np\n",
    "import os\n",
    "import tensorflow as tf\n",
    "\n",
    "from pandas import read_csv\n",
    "from sklearn.model_selection import train_test_split\n",
    "from sklearn.model_selection import KFold\n",
    "from sklearn.metrics import mean_squared_error\n",
    "from tensorflow import keras\n",
    "from tensorflow.keras import layers\n",
    "from tensorflow.keras.models import Sequential"
   ]
  },
  {
   "cell_type": "markdown",
   "metadata": {},
   "source": [
    "### Data Preprocessing"
   ]
  },
  {
   "cell_type": "code",
   "execution_count": 2,
   "metadata": {},
   "outputs": [],
   "source": [
    "coords = read_csv(\"Coordinates/Coordinates.csv\").values"
   ]
  },
  {
   "cell_type": "code",
   "execution_count": 3,
   "metadata": {},
   "outputs": [],
   "source": [
    "img_path = \"Coordinates/images\"\n",
    "img_dir = [os.path.join(img_path,i) for i in os.listdir(img_path)]\n",
    "img_list = []\n",
    "for img in img_dir:\n",
    "    img = plt.imread(img)\n",
    "    # Scale to [0,1]\n",
    "    if (img.dtype == np.uint8):\n",
    "        img = img.astype(float) / 256\n",
    "    # Convert to grayscale\n",
    "    img = np.mean(img,axis=-1)\n",
    "    img = np.expand_dims(img,axis=2)\n",
    "    img_list.append(img)\n",
    "img_list = np.array(img_list)"
   ]
  },
  {
   "cell_type": "code",
   "execution_count": 4,
   "metadata": {},
   "outputs": [],
   "source": [
    "img_w = 640\n",
    "img_h = 360\n",
    "\n",
    "X = img_list\n",
    "Y = coords"
   ]
  },
  {
   "cell_type": "markdown",
   "metadata": {},
   "source": [
    "### Simple CNN Regression Model"
   ]
  },
  {
   "cell_type": "code",
   "execution_count": 5,
   "metadata": {},
   "outputs": [],
   "source": [
    "model = Sequential(\n",
    "[\n",
    "    layers.Conv2D(16,3,padding='same',activation='relu',input_shape=(img_h,img_w,1)),\n",
    "    layers.MaxPooling2D(),\n",
    "    layers.Conv2D(32,3,padding='same',activation='relu'),\n",
    "    layers.MaxPooling2D(),\n",
    "    layers.Conv2D(64,3,padding='same',activation='relu'),\n",
    "    layers.MaxPooling2D(),\n",
    "    layers.Dropout(0.2),\n",
    "    layers.Flatten(),\n",
    "    layers.Dense(128,activation='relu'),\n",
    "    layers.Dense(2)\n",
    "])"
   ]
  },
  {
   "cell_type": "markdown",
   "metadata": {},
   "source": [
    "### 5-fold Cross Validation"
   ]
  },
  {
   "cell_type": "code",
   "execution_count": 6,
   "metadata": {
    "scrolled": false
   },
   "outputs": [
    {
     "name": "stdout",
     "output_type": "stream",
     "text": [
      "Epoch 1/20\n",
      "118/118 [==============================] - 90s 766ms/step - loss: 3710.0537 - mean_squared_error: 3710.0537\n",
      "Epoch 2/20\n",
      "118/118 [==============================] - 85s 724ms/step - loss: 3186.0994 - mean_squared_error: 3186.0994\n",
      "Epoch 3/20\n",
      "118/118 [==============================] - 88s 746ms/step - loss: 2902.3079 - mean_squared_error: 2902.3076\n",
      "Epoch 4/20\n",
      "118/118 [==============================] - 104s 878ms/step - loss: 2312.3511 - mean_squared_error: 2312.3511\n",
      "Epoch 5/20\n",
      "118/118 [==============================] - 91s 767ms/step - loss: 1481.2491 - mean_squared_error: 1481.2491\n",
      "Epoch 6/20\n",
      "118/118 [==============================] - 88s 745ms/step - loss: 915.1205 - mean_squared_error: 915.1205\n",
      "Epoch 7/20\n",
      "118/118 [==============================] - 91s 771ms/step - loss: 731.6035 - mean_squared_error: 731.6035\n",
      "Epoch 8/20\n",
      "118/118 [==============================] - 100s 845ms/step - loss: 452.2614 - mean_squared_error: 452.2614\n",
      "Epoch 9/20\n",
      "118/118 [==============================] - 88s 746ms/step - loss: 280.3918 - mean_squared_error: 280.3918\n",
      "Epoch 10/20\n",
      "118/118 [==============================] - 92s 780ms/step - loss: 248.7218 - mean_squared_error: 248.7218\n",
      "Epoch 11/20\n",
      "118/118 [==============================] - 145s 1s/step - loss: 277.0927 - mean_squared_error: 277.0927\n",
      "Epoch 12/20\n",
      "118/118 [==============================] - 130s 1s/step - loss: 248.2686 - mean_squared_error: 248.2686\n",
      "Epoch 13/20\n",
      "118/118 [==============================] - 128s 1s/step - loss: 171.7570 - mean_squared_error: 171.7570\n",
      "Epoch 14/20\n",
      "118/118 [==============================] - 130s 1s/step - loss: 132.1653 - mean_squared_error: 132.1653\n",
      "Epoch 15/20\n",
      "118/118 [==============================] - 138s 1s/step - loss: 107.7338 - mean_squared_error: 107.7338\n",
      "Epoch 16/20\n",
      "118/118 [==============================] - 140s 1s/step - loss: 103.0247 - mean_squared_error: 103.0247\n",
      "Epoch 17/20\n",
      "118/118 [==============================] - 129s 1s/step - loss: 117.3532 - mean_squared_error: 117.3532\n",
      "Epoch 18/20\n",
      "118/118 [==============================] - 131s 1s/step - loss: 110.9618 - mean_squared_error: 110.9618\n",
      "Epoch 19/20\n",
      "118/118 [==============================] - 132s 1s/step - loss: 91.6264 - mean_squared_error: 91.6264\n",
      "Epoch 20/20\n",
      "118/118 [==============================] - 108s 912ms/step - loss: 96.3518 - mean_squared_error: 96.3518\n",
      "Epoch 1/20\n",
      "118/118 [==============================] - 87s 736ms/step - loss: 1926.8027 - mean_squared_error: 1926.8026\n",
      "Epoch 2/20\n",
      "118/118 [==============================] - 85s 718ms/step - loss: 1134.9823 - mean_squared_error: 1134.9823\n",
      "Epoch 3/20\n",
      "118/118 [==============================] - 84s 711ms/step - loss: 620.8768 - mean_squared_error: 620.8768\n",
      "Epoch 4/20\n",
      "118/118 [==============================] - 84s 714ms/step - loss: 411.7274 - mean_squared_error: 411.7274\n",
      "Epoch 5/20\n",
      "118/118 [==============================] - 82s 694ms/step - loss: 348.9274 - mean_squared_error: 348.9274\n",
      "Epoch 6/20\n",
      "118/118 [==============================] - 86s 729ms/step - loss: 345.4305 - mean_squared_error: 345.4305\n",
      "Epoch 7/20\n",
      "118/118 [==============================] - 88s 749ms/step - loss: 304.6586 - mean_squared_error: 304.6586\n",
      "Epoch 8/20\n",
      "118/118 [==============================] - 86s 728ms/step - loss: 249.9486 - mean_squared_error: 249.9486\n",
      "Epoch 9/20\n",
      "118/118 [==============================] - 88s 743ms/step - loss: 179.7320 - mean_squared_error: 179.7320\n",
      "Epoch 10/20\n",
      "118/118 [==============================] - 88s 750ms/step - loss: 180.0190 - mean_squared_error: 180.0191\n",
      "Epoch 11/20\n",
      "118/118 [==============================] - 94s 796ms/step - loss: 182.7787 - mean_squared_error: 182.7787\n",
      "Epoch 12/20\n",
      "118/118 [==============================] - 91s 770ms/step - loss: 172.9089 - mean_squared_error: 172.9089\n",
      "Epoch 13/20\n",
      "118/118 [==============================] - 84s 710ms/step - loss: 175.6508 - mean_squared_error: 175.6508\n",
      "Epoch 14/20\n",
      "118/118 [==============================] - 84s 709ms/step - loss: 170.7014 - mean_squared_error: 170.7014\n",
      "Epoch 15/20\n",
      "118/118 [==============================] - 84s 711ms/step - loss: 168.4357 - mean_squared_error: 168.4357\n",
      "Epoch 16/20\n",
      "118/118 [==============================] - 87s 735ms/step - loss: 152.6497 - mean_squared_error: 152.6497\n",
      "Epoch 17/20\n",
      "118/118 [==============================] - 84s 712ms/step - loss: 152.2381 - mean_squared_error: 152.2381\n",
      "Epoch 18/20\n",
      "118/118 [==============================] - 85s 720ms/step - loss: 145.7477 - mean_squared_error: 145.7477\n",
      "Epoch 19/20\n",
      "118/118 [==============================] - 84s 714ms/step - loss: 120.7904 - mean_squared_error: 120.7904\n",
      "Epoch 20/20\n",
      "118/118 [==============================] - 82s 699ms/step - loss: 123.3057 - mean_squared_error: 123.3057\n",
      "Epoch 1/20\n",
      "118/118 [==============================] - 86s 727ms/step - loss: 279.4098 - mean_squared_error: 279.4098\n",
      "Epoch 2/20\n",
      "118/118 [==============================] - 84s 716ms/step - loss: 183.1551 - mean_squared_error: 183.1551\n",
      "Epoch 3/20\n",
      "118/118 [==============================] - 88s 745ms/step - loss: 143.2476 - mean_squared_error: 143.2476\n",
      "Epoch 4/20\n",
      "118/118 [==============================] - 83s 706ms/step - loss: 129.5592 - mean_squared_error: 129.5592\n",
      "Epoch 5/20\n",
      "118/118 [==============================] - 83s 701ms/step - loss: 142.3695 - mean_squared_error: 142.3695\n",
      "Epoch 6/20\n",
      "118/118 [==============================] - 83s 700ms/step - loss: 109.8824 - mean_squared_error: 109.8824\n",
      "Epoch 7/20\n",
      "118/118 [==============================] - 81s 689ms/step - loss: 107.1938 - mean_squared_error: 107.1938\n",
      "Epoch 8/20\n",
      "118/118 [==============================] - 83s 701ms/step - loss: 109.4896 - mean_squared_error: 109.4896\n",
      "Epoch 9/20\n",
      "118/118 [==============================] - 83s 701ms/step - loss: 120.8659 - mean_squared_error: 120.8659\n",
      "Epoch 10/20\n",
      "118/118 [==============================] - 84s 709ms/step - loss: 124.0911 - mean_squared_error: 124.0911\n",
      "Epoch 11/20\n",
      "118/118 [==============================] - 83s 701ms/step - loss: 125.8678 - mean_squared_error: 125.8678\n",
      "Epoch 12/20\n",
      "118/118 [==============================] - 82s 699ms/step - loss: 107.8013 - mean_squared_error: 107.8013\n",
      "Epoch 13/20\n",
      "118/118 [==============================] - 82s 697ms/step - loss: 84.1362 - mean_squared_error: 84.1362\n",
      "Epoch 14/20\n",
      "118/118 [==============================] - 83s 701ms/step - loss: 69.1391 - mean_squared_error: 69.1391\n",
      "Epoch 15/20\n",
      "118/118 [==============================] - 85s 717ms/step - loss: 98.9466 - mean_squared_error: 98.9466\n",
      "Epoch 16/20\n",
      "118/118 [==============================] - 82s 699ms/step - loss: 106.4484 - mean_squared_error: 106.4484\n",
      "Epoch 17/20\n",
      "118/118 [==============================] - 81s 689ms/step - loss: 77.7911 - mean_squared_error: 77.7911\n",
      "Epoch 18/20\n",
      "118/118 [==============================] - 82s 698ms/step - loss: 88.3977 - mean_squared_error: 88.3977\n",
      "Epoch 19/20\n",
      "118/118 [==============================] - 82s 698ms/step - loss: 71.2508 - mean_squared_error: 71.2508\n",
      "Epoch 20/20\n",
      "118/118 [==============================] - 82s 693ms/step - loss: 65.5672 - mean_squared_error: 65.5672\n",
      "Epoch 1/20\n",
      "118/118 [==============================] - 85s 717ms/step - loss: 104.1770 - mean_squared_error: 104.1770\n",
      "Epoch 2/20\n",
      "118/118 [==============================] - 83s 707ms/step - loss: 83.9073 - mean_squared_error: 83.9073\n",
      "Epoch 3/20\n",
      "118/118 [==============================] - 83s 707ms/step - loss: 76.0253 - mean_squared_error: 76.0253\n",
      "Epoch 4/20\n",
      "118/118 [==============================] - 82s 695ms/step - loss: 78.7740 - mean_squared_error: 78.7740\n",
      "Epoch 5/20\n",
      "118/118 [==============================] - 83s 703ms/step - loss: 67.7612 - mean_squared_error: 67.7612\n",
      "Epoch 6/20\n",
      "118/118 [==============================] - 84s 708ms/step - loss: 70.1543 - mean_squared_error: 70.1543\n",
      "Epoch 7/20\n",
      "118/118 [==============================] - 82s 694ms/step - loss: 71.3682 - mean_squared_error: 71.3682\n",
      "Epoch 8/20\n",
      "118/118 [==============================] - 84s 708ms/step - loss: 61.4884 - mean_squared_error: 61.4884\n",
      "Epoch 9/20\n",
      "118/118 [==============================] - 83s 704ms/step - loss: 59.8357 - mean_squared_error: 59.8357\n",
      "Epoch 10/20\n",
      "118/118 [==============================] - 82s 698ms/step - loss: 67.4420 - mean_squared_error: 67.4420\n",
      "Epoch 11/20\n"
     ]
    },
    {
     "name": "stdout",
     "output_type": "stream",
     "text": [
      "118/118 [==============================] - 82s 699ms/step - loss: 68.4657 - mean_squared_error: 68.4657\n",
      "Epoch 12/20\n",
      "118/118 [==============================] - 82s 698ms/step - loss: 69.0131 - mean_squared_error: 69.0131\n",
      "Epoch 13/20\n",
      "118/118 [==============================] - 82s 698ms/step - loss: 66.1951 - mean_squared_error: 66.1951\n",
      "Epoch 14/20\n",
      "118/118 [==============================] - 81s 691ms/step - loss: 62.9110 - mean_squared_error: 62.9110\n",
      "Epoch 15/20\n",
      "118/118 [==============================] - 82s 695ms/step - loss: 62.5119 - mean_squared_error: 62.5119\n",
      "Epoch 16/20\n",
      "118/118 [==============================] - 83s 700ms/step - loss: 47.8352 - mean_squared_error: 47.8352\n",
      "Epoch 17/20\n",
      "118/118 [==============================] - 81s 690ms/step - loss: 45.5161 - mean_squared_error: 45.5161\n",
      "Epoch 18/20\n",
      "118/118 [==============================] - 82s 697ms/step - loss: 63.1423 - mean_squared_error: 63.1423\n",
      "Epoch 19/20\n",
      "118/118 [==============================] - 82s 696ms/step - loss: 64.2888 - mean_squared_error: 64.2888\n",
      "Epoch 20/20\n",
      "118/118 [==============================] - 82s 698ms/step - loss: 51.8091 - mean_squared_error: 51.8091\n",
      "Epoch 1/20\n",
      "118/118 [==============================] - 85s 716ms/step - loss: 69.3974 - mean_squared_error: 69.3974\n",
      "Epoch 2/20\n",
      "118/118 [==============================] - 83s 702ms/step - loss: 55.0060 - mean_squared_error: 55.0060\n",
      "Epoch 3/20\n",
      "118/118 [==============================] - 82s 696ms/step - loss: 44.9471 - mean_squared_error: 44.9471\n",
      "Epoch 4/20\n",
      "118/118 [==============================] - 81s 688ms/step - loss: 49.2031 - mean_squared_error: 49.2031\n",
      "Epoch 5/20\n",
      "118/118 [==============================] - 88s 748ms/step - loss: 51.8775 - mean_squared_error: 51.8775\n",
      "Epoch 6/20\n",
      "118/118 [==============================] - 82s 698ms/step - loss: 54.5838 - mean_squared_error: 54.5838\n",
      "Epoch 7/20\n",
      "118/118 [==============================] - 83s 702ms/step - loss: 54.5816 - mean_squared_error: 54.5816\n",
      "Epoch 8/20\n",
      "118/118 [==============================] - 81s 686ms/step - loss: 58.2761 - mean_squared_error: 58.2761\n",
      "Epoch 9/20\n",
      "118/118 [==============================] - 82s 695ms/step - loss: 45.2063 - mean_squared_error: 45.2063\n",
      "Epoch 10/20\n",
      "118/118 [==============================] - 84s 713ms/step - loss: 39.9251 - mean_squared_error: 39.9251\n",
      "Epoch 11/20\n",
      "118/118 [==============================] - 82s 693ms/step - loss: 33.7300 - mean_squared_error: 33.7300\n",
      "Epoch 12/20\n",
      "118/118 [==============================] - 82s 694ms/step - loss: 32.5907 - mean_squared_error: 32.5907\n",
      "Epoch 13/20\n",
      "118/118 [==============================] - 82s 695ms/step - loss: 28.1861 - mean_squared_error: 28.1861\n",
      "Epoch 14/20\n",
      "118/118 [==============================] - 82s 691ms/step - loss: 30.7892 - mean_squared_error: 30.7892\n",
      "Epoch 15/20\n",
      "118/118 [==============================] - 83s 702ms/step - loss: 31.4068 - mean_squared_error: 31.4068\n",
      "Epoch 16/20\n",
      "118/118 [==============================] - 84s 711ms/step - loss: 37.3096 - mean_squared_error: 37.3096\n",
      "Epoch 17/20\n",
      "118/118 [==============================] - 82s 691ms/step - loss: 38.0944 - mean_squared_error: 38.0944\n",
      "Epoch 18/20\n",
      "118/118 [==============================] - 83s 706ms/step - loss: 38.6436 - mean_squared_error: 38.6436\n",
      "Epoch 19/20\n",
      "118/118 [==============================] - 82s 693ms/step - loss: 39.2031 - mean_squared_error: 39.2031\n",
      "Epoch 20/20\n",
      "118/118 [==============================] - 82s 696ms/step - loss: 32.6525 - mean_squared_error: 32.6525\n",
      "WARNING:tensorflow:5 out of the last 13 calls to <function Model.make_predict_function.<locals>.predict_function at 0x000002E88189E8B8> triggered tf.function retracing. Tracing is expensive and the excessive number of tracings could be due to (1) creating @tf.function repeatedly in a loop, (2) passing tensors with different shapes, (3) passing Python objects instead of tensors. For (1), please define your @tf.function outside of the loop. For (2), @tf.function has experimental_relax_shapes=True option that relaxes argument shapes that can avoid unnecessary retracing. For (3), please refer to https://www.tensorflow.org/tutorials/customization/performance#python_or_tensor_args and https://www.tensorflow.org/api_docs/python/tf/function for  more details.\n"
     ]
    }
   ],
   "source": [
    "kf = KFold(n_splits=5)\n",
    "\n",
    "mse = list()\n",
    "\n",
    "for train_index, test_index in kf.split(X):\n",
    "    x_train, x_test = X[train_index], X[test_index]\n",
    "    y_train, y_test = Y[train_index], Y[test_index]\n",
    "    \n",
    "    model.compile(loss='mse', optimizer='adam', metrics=['mean_squared_error'])\n",
    "    model.fit(x_train, y_train, epochs=20, batch_size=3)\n",
    "    \n",
    "    results = model.predict(x_test)\n",
    "    mse.append(mean_squared_error(y_test,results))"
   ]
  },
  {
   "cell_type": "code",
   "execution_count": 10,
   "metadata": {},
   "outputs": [
    {
     "name": "stdout",
     "output_type": "stream",
     "text": [
      "Model: \"sequential\"\n",
      "_________________________________________________________________\n",
      "Layer (type)                 Output Shape              Param #   \n",
      "=================================================================\n",
      "conv2d (Conv2D)              (None, 360, 640, 16)      160       \n",
      "_________________________________________________________________\n",
      "max_pooling2d (MaxPooling2D) (None, 180, 320, 16)      0         \n",
      "_________________________________________________________________\n",
      "conv2d_1 (Conv2D)            (None, 180, 320, 32)      4640      \n",
      "_________________________________________________________________\n",
      "max_pooling2d_1 (MaxPooling2 (None, 90, 160, 32)       0         \n",
      "_________________________________________________________________\n",
      "conv2d_2 (Conv2D)            (None, 90, 160, 64)       18496     \n",
      "_________________________________________________________________\n",
      "max_pooling2d_2 (MaxPooling2 (None, 45, 80, 64)        0         \n",
      "_________________________________________________________________\n",
      "dropout (Dropout)            (None, 45, 80, 64)        0         \n",
      "_________________________________________________________________\n",
      "flatten (Flatten)            (None, 230400)            0         \n",
      "_________________________________________________________________\n",
      "dense (Dense)                (None, 128)               29491328  \n",
      "_________________________________________________________________\n",
      "dense_1 (Dense)              (None, 2)                 258       \n",
      "=================================================================\n",
      "Total params: 29,514,882\n",
      "Trainable params: 29,514,882\n",
      "Non-trainable params: 0\n",
      "_________________________________________________________________\n"
     ]
    }
   ],
   "source": [
    "model.summary()"
   ]
  },
  {
   "cell_type": "markdown",
   "metadata": {},
   "source": [
    "### Model Evaluation"
   ]
  },
  {
   "cell_type": "code",
   "execution_count": 12,
   "metadata": {},
   "outputs": [
    {
     "data": {
      "text/plain": [
       "[9301.520882205858,\n",
       " 1132.9324797206439,\n",
       " 319.67400425667927,\n",
       " 137.58038797452593,\n",
       " 428.7434396408897]"
      ]
     },
     "execution_count": 12,
     "metadata": {},
     "output_type": "execute_result"
    }
   ],
   "source": [
    "mse"
   ]
  },
  {
   "cell_type": "markdown",
   "metadata": {},
   "source": [
    "#### Average Test MSE"
   ]
  },
  {
   "cell_type": "code",
   "execution_count": 14,
   "metadata": {},
   "outputs": [
    {
     "data": {
      "text/plain": [
       "2264.0902387597193"
      ]
     },
     "execution_count": 14,
     "metadata": {},
     "output_type": "execute_result"
    }
   ],
   "source": [
    "np.mean(mse)"
   ]
  },
  {
   "cell_type": "code",
   "execution_count": null,
   "metadata": {},
   "outputs": [],
   "source": []
  }
 ],
 "metadata": {
  "kernelspec": {
   "display_name": "Python 3",
   "language": "python",
   "name": "python3"
  },
  "language_info": {
   "codemirror_mode": {
    "name": "ipython",
    "version": 3
   },
   "file_extension": ".py",
   "mimetype": "text/x-python",
   "name": "python",
   "nbconvert_exporter": "python",
   "pygments_lexer": "ipython3",
   "version": "3.7.9"
  }
 },
 "nbformat": 4,
 "nbformat_minor": 4
}
