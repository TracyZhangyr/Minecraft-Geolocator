{
 "cells": [
  {
   "cell_type": "code",
   "execution_count": 1,
   "metadata": {},
   "outputs": [],
   "source": [
    "import matplotlib.pyplot as plt\n",
    "import numpy as np\n",
    "import pandas as pd\n",
    "from tensorflow.keras.models import Sequential\n",
    "from tensorflow.keras.layers import Dense\n",
    "from tensorflow.keras.layers import Dropout\n",
    "from skimage.color import rgb2gray\n",
    "from skimage.transform import rescale\n",
    "from sklearn.model_selection import KFold\n",
    "from sklearn.metrics import mean_squared_error\n",
    "import cv2"
   ]
  },
  {
   "cell_type": "code",
   "execution_count": 2,
   "metadata": {},
   "outputs": [],
   "source": [
    "img = list()\n",
    "gray = list()\n",
    "for i in range(441):\n",
    "    img.append(cv2.imread(f'{i}.jpg'))\n",
    "    gray.append(cv2.cvtColor(img[i], cv2.COLOR_BGR2GRAY))\n",
    "\n",
    "\n",
    "img = np.array(img)\n",
    "gray = np.array(gray)"
   ]
  },
  {
   "cell_type": "code",
   "execution_count": 3,
   "metadata": {},
   "outputs": [],
   "source": [
    "descriptor = list()\n",
    "bad_pic = list()\n",
    "orb = cv2.ORB_create(nfeatures=100)\n",
    "for i in range(len(gray)):\n",
    "    kp1, des1 = orb.detectAndCompute(gray[i], None)\n",
    "    if(type(des1) != type(None) and des1.shape == (100,32)):\n",
    "        descriptor.append(des1.flatten())\n",
    "    else:\n",
    "        bad_pic.append(i)\n",
    "        \n",
    "        \n",
    "descriptor = np.array(descriptor)"
   ]
  },
  {
   "cell_type": "code",
   "execution_count": 4,
   "metadata": {},
   "outputs": [],
   "source": [
    "X = descriptor"
   ]
  },
  {
   "cell_type": "code",
   "execution_count": 5,
   "metadata": {},
   "outputs": [],
   "source": [
    "target = pd.read_csv(\"coordinates.csv\")\n",
    "Y = np.array(target.values.tolist())"
   ]
  },
  {
   "cell_type": "code",
   "execution_count": 6,
   "metadata": {},
   "outputs": [],
   "source": [
    "mask = np.ones(len(Y), dtype=bool)\n",
    "for index in bad_pic:\n",
    "    mask[index] = 0"
   ]
  },
  {
   "cell_type": "code",
   "execution_count": 7,
   "metadata": {},
   "outputs": [],
   "source": [
    "Y = Y[mask]"
   ]
  },
  {
   "cell_type": "code",
   "execution_count": 8,
   "metadata": {},
   "outputs": [],
   "source": [
    "model = Sequential()\n",
    "model.add(Dense(1600, activation='relu',input_shape=X[0].shape))\n",
    "model.add(Dense(200, activation='relu'))\n",
    "model.add(Dense(32, activation='relu'))\n",
    "model.add(Dense(2))"
   ]
  },
  {
   "cell_type": "code",
   "execution_count": 9,
   "metadata": {},
   "outputs": [
    {
     "name": "stdout",
     "output_type": "stream",
     "text": [
      "Epoch 1/10\n",
      "115/115 [==============================] - 3s 23ms/step - loss: 41982.3281 - mean_squared_error: 41982.3242 0s - loss: 46045.3281 - mean_squared_error: \n",
      "Epoch 2/10\n",
      "115/115 [==============================] - 3s 23ms/step - loss: 8303.5898 - mean_squared_error: 8303.5898\n",
      "Epoch 3/10\n",
      "115/115 [==============================] - 3s 22ms/step - loss: 4320.6338 - mean_squared_error: 4320.6338\n",
      "Epoch 4/10\n",
      "115/115 [==============================] - 3s 23ms/step - loss: 3282.3591 - mean_squared_error: 3282.3591\n",
      "Epoch 5/10\n",
      "115/115 [==============================] - 3s 22ms/step - loss: 1747.6722 - mean_squared_error: 1747.6722\n",
      "Epoch 6/10\n",
      "115/115 [==============================] - 3s 22ms/step - loss: 1582.5231 - mean_squared_error: 1582.5231\n",
      "Epoch 7/10\n",
      "115/115 [==============================] - 3s 23ms/step - loss: 1080.6426 - mean_squared_error: 1080.6426\n",
      "Epoch 8/10\n",
      "115/115 [==============================] - 3s 23ms/step - loss: 1229.2583 - mean_squared_error: 1229.2583\n",
      "Epoch 9/10\n",
      "115/115 [==============================] - 3s 22ms/step - loss: 645.1797 - mean_squared_error: 645.1797\n",
      "Epoch 10/10\n",
      "115/115 [==============================] - 3s 22ms/step - loss: 584.4099 - mean_squared_error: 584.4099\n",
      "Epoch 1/10\n",
      "115/115 [==============================] - 3s 22ms/step - loss: 36984.4414 - mean_squared_error: 36984.4414\n",
      "Epoch 2/10\n",
      "115/115 [==============================] - 2s 22ms/step - loss: 9563.6670 - mean_squared_error: 9563.6670\n",
      "Epoch 3/10\n",
      "115/115 [==============================] - 3s 22ms/step - loss: 4516.6216 - mean_squared_error: 4516.6216\n",
      "Epoch 4/10\n",
      "115/115 [==============================] - 3s 23ms/step - loss: 3502.9507 - mean_squared_error: 3502.9507\n",
      "Epoch 5/10\n",
      "115/115 [==============================] - 3s 22ms/step - loss: 2113.8665 - mean_squared_error: 2113.8665\n",
      "Epoch 6/10\n",
      "115/115 [==============================] - 3s 22ms/step - loss: 1720.8639 - mean_squared_error: 1720.8639\n",
      "Epoch 7/10\n",
      "115/115 [==============================] - 3s 22ms/step - loss: 1896.2781 - mean_squared_error: 1896.2781\n",
      "Epoch 8/10\n",
      "115/115 [==============================] - 3s 22ms/step - loss: 835.3161 - mean_squared_error: 835.3161\n",
      "Epoch 9/10\n",
      "115/115 [==============================] - 3s 22ms/step - loss: 533.2659 - mean_squared_error: 533.2659\n",
      "Epoch 10/10\n",
      "115/115 [==============================] - 3s 23ms/step - loss: 362.0820 - mean_squared_error: 362.0820\n",
      "Epoch 1/10\n",
      "115/115 [==============================] - 3s 22ms/step - loss: 38278.3203 - mean_squared_error: 38278.3203\n",
      "Epoch 2/10\n",
      "115/115 [==============================] - 3s 22ms/step - loss: 13169.7158 - mean_squared_error: 13169.7158\n",
      "Epoch 3/10\n",
      "115/115 [==============================] - 3s 22ms/step - loss: 7319.9775 - mean_squared_error: 7319.9775\n",
      "Epoch 4/10\n",
      "115/115 [==============================] - 3s 22ms/step - loss: 3301.1580 - mean_squared_error: 3301.1580\n",
      "Epoch 5/10\n",
      "115/115 [==============================] - 3s 22ms/step - loss: 2034.2208 - mean_squared_error: 2034.2208\n",
      "Epoch 6/10\n",
      "115/115 [==============================] - 3s 23ms/step - loss: 1758.0850 - mean_squared_error: 1758.0850\n",
      "Epoch 7/10\n",
      "115/115 [==============================] - 3s 22ms/step - loss: 956.0156 - mean_squared_error: 956.0156\n",
      "Epoch 8/10\n",
      "115/115 [==============================] - 3s 22ms/step - loss: 668.9209 - mean_squared_error: 668.9209\n",
      "Epoch 9/10\n",
      "115/115 [==============================] - 3s 22ms/step - loss: 406.6378 - mean_squared_error: 406.6378\n",
      "Epoch 10/10\n",
      "115/115 [==============================] - 3s 22ms/step - loss: 302.5778 - mean_squared_error: 302.5778\n",
      "Epoch 1/10\n",
      "115/115 [==============================] - 3s 23ms/step - loss: 20951.4297 - mean_squared_error: 20951.4297\n",
      "Epoch 2/10\n",
      "115/115 [==============================] - 3s 23ms/step - loss: 6859.1763 - mean_squared_error: 6859.1763 1s - loss: 8058.\n",
      "Epoch 3/10\n",
      "115/115 [==============================] - 3s 24ms/step - loss: 4200.2236 - mean_squared_error: 4200.2236\n",
      "Epoch 4/10\n",
      "115/115 [==============================] - 3s 22ms/step - loss: 2806.9990 - mean_squared_error: 2806.9990\n",
      "Epoch 5/10\n",
      "115/115 [==============================] - 3s 22ms/step - loss: 2074.8228 - mean_squared_error: 2074.8228\n",
      "Epoch 6/10\n",
      "115/115 [==============================] - 3s 23ms/step - loss: 1426.2552 - mean_squared_error: 1426.2552\n",
      "Epoch 7/10\n",
      "115/115 [==============================] - 3s 23ms/step - loss: 862.1572 - mean_squared_error: 862.1572\n",
      "Epoch 8/10\n",
      "115/115 [==============================] - 3s 23ms/step - loss: 613.8310 - mean_squared_error: 613.8310\n",
      "Epoch 9/10\n",
      "115/115 [==============================] - 3s 22ms/step - loss: 473.6630 - mean_squared_error: 473.6630\n",
      "Epoch 10/10\n",
      "115/115 [==============================] - 3s 22ms/step - loss: 293.0536 - mean_squared_error: 293.0536\n",
      "Epoch 1/10\n",
      "115/115 [==============================] - 3s 23ms/step - loss: 41870.5938 - mean_squared_error: 41870.5938\n",
      "Epoch 2/10\n",
      "115/115 [==============================] - 3s 22ms/step - loss: 10945.1865 - mean_squared_error: 10945.1865\n",
      "Epoch 3/10\n",
      "115/115 [==============================] - 3s 23ms/step - loss: 5311.7227 - mean_squared_error: 5311.7227\n",
      "Epoch 4/10\n",
      "115/115 [==============================] - 3s 23ms/step - loss: 2943.0803 - mean_squared_error: 2943.0806\n",
      "Epoch 5/10\n",
      "115/115 [==============================] - 3s 22ms/step - loss: 2151.3772 - mean_squared_error: 2151.3772\n",
      "Epoch 6/10\n",
      "115/115 [==============================] - 3s 22ms/step - loss: 1397.0596 - mean_squared_error: 1397.0596\n",
      "Epoch 7/10\n",
      "115/115 [==============================] - 3s 22ms/step - loss: 954.0012 - mean_squared_error: 954.0012\n",
      "Epoch 8/10\n",
      "115/115 [==============================] - 3s 22ms/step - loss: 533.3187 - mean_squared_error: 533.3187\n",
      "Epoch 9/10\n",
      "115/115 [==============================] - 3s 23ms/step - loss: 480.4015 - mean_squared_error: 480.4015\n",
      "Epoch 10/10\n",
      "115/115 [==============================] - 3s 23ms/step - loss: 339.5661 - mean_squared_error: 339.5661\n"
     ]
    }
   ],
   "source": [
    "kf = KFold(n_splits=5, shuffle= True)\n",
    "\n",
    "mse = list()\n",
    "train = list()\n",
    "\n",
    "for train_index, test_index in kf.split(X):\n",
    "    x_train, x_test = X[train_index], X[test_index]\n",
    "    y_train, y_test = Y[train_index], Y[test_index]\n",
    "    \n",
    "    model = Sequential()\n",
    "    model.add(Dense(1600, activation='relu',input_shape=X[0].shape))\n",
    "    model.add(Dropout(0.01))\n",
    "    model.add(Dense(200, activation='relu'))\n",
    "    model.add(Dense(32, activation='relu'))\n",
    "    model.add(Dense(2))\n",
    "    model.compile(loss='mse', optimizer='adam', metrics=['mean_squared_error'])\n",
    "    model.fit(x_train, y_train, epochs=10, batch_size=3)\n",
    "    \n",
    "    results = model.predict(x_test)\n",
    "    train_mse = model.predict(x_train)\n",
    "    mse.append(mean_squared_error(y_test,results))\n",
    "    train.append(mean_squared_error(y_train,train_mse))"
   ]
  },
  {
   "cell_type": "code",
   "execution_count": 10,
   "metadata": {},
   "outputs": [
    {
     "data": {
      "text/plain": [
       "3194.7805523394222"
      ]
     },
     "execution_count": 10,
     "metadata": {},
     "output_type": "execute_result"
    }
   ],
   "source": [
    "sum(mse)/5"
   ]
  },
  {
   "cell_type": "code",
   "execution_count": 11,
   "metadata": {},
   "outputs": [
    {
     "data": {
      "text/plain": [
       "275.4714799710616"
      ]
     },
     "execution_count": 11,
     "metadata": {},
     "output_type": "execute_result"
    }
   ],
   "source": [
    "sum(train)/5"
   ]
  },
  {
   "cell_type": "code",
   "execution_count": null,
   "metadata": {},
   "outputs": [],
   "source": []
  },
  {
   "cell_type": "code",
   "execution_count": null,
   "metadata": {},
   "outputs": [],
   "source": []
  },
  {
   "cell_type": "code",
   "execution_count": null,
   "metadata": {},
   "outputs": [],
   "source": []
  },
  {
   "cell_type": "code",
   "execution_count": null,
   "metadata": {},
   "outputs": [],
   "source": []
  },
  {
   "cell_type": "code",
   "execution_count": null,
   "metadata": {},
   "outputs": [],
   "source": []
  },
  {
   "cell_type": "code",
   "execution_count": null,
   "metadata": {},
   "outputs": [],
   "source": []
  }
 ],
 "metadata": {
  "kernelspec": {
   "display_name": "Python 3",
   "language": "python",
   "name": "python3"
  },
  "language_info": {
   "codemirror_mode": {
    "name": "ipython",
    "version": 3
   },
   "file_extension": ".py",
   "mimetype": "text/x-python",
   "name": "python",
   "nbconvert_exporter": "python",
   "pygments_lexer": "ipython3",
   "version": "3.7.6"
  }
 },
 "nbformat": 4,
 "nbformat_minor": 4
}
